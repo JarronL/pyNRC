{
 "cells": [
  {
   "cell_type": "code",
   "execution_count": 1,
   "metadata": {},
   "outputs": [],
   "source": [
    "# Makes print and division act like Python 3\n",
    "from __future__ import print_function, division\n",
    "\n",
    "# Import the usual libraries\n",
    "import numpy as np\n",
    "import matplotlib\n",
    "import matplotlib.pyplot as plt\n",
    "import matplotlib.patches as mpatches\n",
    "\n",
    "# Enable inline plotting\n",
    "%matplotlib inline\n",
    "\n",
    "from IPython.display import display, Latex, clear_output\n",
    "from matplotlib.backends.backend_pdf import PdfPages"
   ]
  },
  {
   "cell_type": "code",
   "execution_count": 2,
   "metadata": {},
   "outputs": [
    {
     "name": "stdout",
     "output_type": "stream",
     "text": [
      "[     pynrc:INFO]   jwst_backgrounds is not installed and will not be used for bg estimates.\n"
     ]
    }
   ],
   "source": [
    "import pynrc\n",
    "from pynrc import nrc_utils\n",
    "from pynrc.nrc_utils import S, source_spectrum\n",
    "\n",
    "from astropy.io import fits\n",
    "\n",
    "pynrc.setup_logging('WARNING', verbose=False)"
   ]
  },
  {
   "cell_type": "code",
   "execution_count": 5,
   "metadata": {
    "scrolled": true
   },
   "outputs": [],
   "source": [
    "import pysiaf\n",
    "siaf_nrc = pysiaf.Siaf('NIRCam')\n",
    "siaf_nrc.generate_toc()"
   ]
  },
  {
   "cell_type": "code",
   "execution_count": 6,
   "metadata": {},
   "outputs": [],
   "source": [
    "apname='NRCB5_SUB400P'\n",
    "fov_pix = 401\n",
    "oversample = 4"
   ]
  },
  {
   "cell_type": "code",
   "execution_count": 7,
   "metadata": {},
   "outputs": [],
   "source": [
    "nrc = pynrc.NIRCam(filter='F410M', apname=apname, fov_pix=fov_pix, oversample=oversample, \n",
    "                   include_si_wfe=True)"
   ]
  },
  {
   "cell_type": "code",
   "execution_count": 8,
   "metadata": {},
   "outputs": [],
   "source": [
    "psf0 = nrc.gen_psf()"
   ]
  },
  {
   "cell_type": "code",
   "execution_count": 63,
   "metadata": {},
   "outputs": [
    {
     "data": {
      "text/plain": [
       "0"
      ]
     },
     "execution_count": 63,
     "metadata": {},
     "output_type": "execute_result"
    }
   ],
   "source": [
    "from copy import deepcopy\n",
    "kwargs = deepcopy(nrc.psf_info)\n",
    "kwargs['pupil'] = nrc.pupil\n",
    "kwargs.pop('save', None)\n",
    "kwargs.pop('force', None)\n",
    "kwargs.pop('include_si_wfe', None)\n",
    "kwargs.pop('offset_r', None)\n",
    "kwargs.pop('offset_theta', None)"
   ]
  },
  {
   "cell_type": "code",
   "execution_count": 64,
   "metadata": {},
   "outputs": [
    {
     "data": {
      "text/plain": [
       "{'fov_pix': 401,\n",
       " 'oversample': 4,\n",
       " 'tel_pupil': None,\n",
       " 'opd': ('OPD_RevW_ote_for_NIRCam_requirements.fits.gz', 0),\n",
       " 'jitter': 'gaussian',\n",
       " 'jitter_sigma': 0.007,\n",
       " 'pupil': 'CLEAR'}"
      ]
     },
     "execution_count": 64,
     "metadata": {},
     "output_type": "execute_result"
    }
   ],
   "source": [
    "kwargs"
   ]
  },
  {
   "cell_type": "code",
   "execution_count": 10,
   "metadata": {},
   "outputs": [],
   "source": [
    "cf_resid = nrc_utils.field_coeff(nrc.filter, nrc.psf_coeff, module=nrc.module, **kwargs)"
   ]
  },
  {
   "cell_type": "code",
   "execution_count": 11,
   "metadata": {},
   "outputs": [],
   "source": [
    "ap = nrc.siaf_ap\n",
    "v2, v3 = ap.convert(200, 200, 'sci', 'tel')  # arcsec\n",
    "\n",
    "sep_arr = np.array([0,2,4,6])\n",
    "v2_asec = np.ones(sep_arr.shape) + v2\n",
    "v3_asec = np.array([v3+sep for sep in sep_arr])"
   ]
  },
  {
   "cell_type": "code",
   "execution_count": 12,
   "metadata": {},
   "outputs": [
    {
     "name": "stdout",
     "output_type": "stream",
     "text": [
      "CPU times: user 4.56 s, sys: 876 ms, total: 5.44 s\n",
      "Wall time: 1.71 s\n"
     ]
    }
   ],
   "source": [
    "%time cf_new_all = nrc.psf_coeff + nrc_utils.field_model(v2_asec/60, v3_asec/60, cf_resid)"
   ]
  },
  {
   "cell_type": "code",
   "execution_count": 13,
   "metadata": {},
   "outputs": [],
   "source": [
    "psf_all = []\n",
    "for cf_new in cf_new_all:\n",
    "    psf = nrc_utils.gen_image_coeff(nrc.filter, pupil=nrc.pupil, mask=nrc.mask, module=nrc.module, \n",
    "                                    coeff=cf_new, fov_pix=fov_pix, oversample=oversample)\n",
    "    psf_all.append(psf)"
   ]
  },
  {
   "cell_type": "markdown",
   "metadata": {},
   "source": [
    "~7th mag primary, with a K=[7,8,9] mag secondary at [2”, 4”, and 6”]\n",
    "\n",
    "A5 primary, with an A5, G0 and K5 companion\n",
    "\n",
    "F212N and F405N\n",
    "\n",
    "F210M / F410M\n",
    "\n",
    "F200W / F444W"
   ]
  },
  {
   "cell_type": "code",
   "execution_count": 35,
   "metadata": {},
   "outputs": [],
   "source": [
    "bp_k = nrc_utils.bp_2mass('k')\n",
    "\n",
    "sp_A5 = pynrc.stellar_spectrum('A5V', 7, 'vegamag', bp_k)\n",
    "sp_G0 = pynrc.stellar_spectrum('A5V', 8, 'vegamag', bp_k)\n",
    "sp_K5 = pynrc.stellar_spectrum('A5V', 9, 'vegamag', bp_k)"
   ]
  },
  {
   "cell_type": "code",
   "execution_count": 36,
   "metadata": {},
   "outputs": [],
   "source": [
    "from pynrc.nrc_utils import gen_image_coeff"
   ]
  },
  {
   "cell_type": "code",
   "execution_count": 37,
   "metadata": {},
   "outputs": [],
   "source": [
    "psf0 = gen_image_coeff(nrc.filter, pupil=nrc.pupil, mask=nrc.mask, module=nrc.module, sp_norm=sp_A5,\n",
    "                       coeff=cf_new_all[0], fov_pix=fov_pix, oversample=oversample)"
   ]
  },
  {
   "cell_type": "code",
   "execution_count": 40,
   "metadata": {},
   "outputs": [],
   "source": [
    "psfs_A5 = []\n",
    "for cf_new in cf_new_all:\n",
    "    psf = gen_image_coeff(nrc.filter, pupil=nrc.pupil, mask=nrc.mask, module=nrc.module, sp_norm=sp_A5, \n",
    "                          coeff=cf_new, fov_pix=fov_pix, oversample=oversample)\n",
    "    psfs_A5.append(psf)"
   ]
  },
  {
   "cell_type": "code",
   "execution_count": 41,
   "metadata": {},
   "outputs": [],
   "source": [
    "psfs_G0 = []\n",
    "for cf_new in cf_new_all:\n",
    "    psf = gen_image_coeff(nrc.filter, pupil=nrc.pupil, mask=nrc.mask, module=nrc.module, sp_norm=sp_G0, \n",
    "                          coeff=cf_new, fov_pix=fov_pix, oversample=oversample)\n",
    "    psfs_G0.append(psf)"
   ]
  },
  {
   "cell_type": "code",
   "execution_count": 42,
   "metadata": {},
   "outputs": [],
   "source": [
    "psfs_K5 = []\n",
    "for cf_new in cf_new_all:\n",
    "    psf = gen_image_coeff(nrc.filter, pupil=nrc.pupil, mask=nrc.mask, module=nrc.module, sp_norm=sp_K5, \n",
    "                          coeff=cf_new, fov_pix=fov_pix, oversample=oversample)\n",
    "    psfs_K5.append(psf)"
   ]
  },
  {
   "cell_type": "code",
   "execution_count": 62,
   "metadata": {},
   "outputs": [
    {
     "name": "stdout",
     "output_type": "stream",
     "text": [
      "2.5118864315095726 -8.465169372848909e-17 5.290730858030568e-18\n"
     ]
    },
    {
     "data": {
      "image/png": "[encoded data removed]",
      "text/plain": [
       "<Figure size 1008x288 with 3 Axes>"
      ]
     },
     "metadata": {
      "needs_background": "light"
     },
     "output_type": "display_data"
    }
   ],
   "source": [
    "im1 = psf0\n",
    "im2 = psfs_G0[0]\n",
    "ratio = im1.sum() / im2.sum()\n",
    "diff = (im1 - im2*ratio) / im2.sum()\n",
    "\n",
    "import matplotlib.cm as cm\n",
    "minmax = 5e-4\n",
    "\n",
    "fig, axes = plt.subplots(1,3, figsize=(14,4))\n",
    "axes[0].imshow(diff, vmin=-minmax, vmax=minmax, cmap=cm.RdBu)\n",
    "axes[1].imshow(im1**0.2)\n",
    "axes[2].imshow(im2**0.2)\n",
    "\n",
    "print(ratio, np.min(diff), np.max(diff))\n",
    "\n",
    "for ax in axes:\n",
    "    ax.set_xlim([180,220])\n",
    "    ax.set_ylim([180,220])\n",
    "    \n",
    "fig.tight_layout()"
   ]
  },
  {
   "cell_type": "code",
   "execution_count": 27,
   "metadata": {},
   "outputs": [
    {
     "name": "stdout",
     "output_type": "stream",
     "text": [
      "8.628221214280928e+18 47.339803178034416\n"
     ]
    }
   ],
   "source": [
    "print(obs0.countrate()/obs0_norm.countrate(), obs0_norm.effstim('vegamag')-obs0.effstim('vegamag'))"
   ]
  },
  {
   "cell_type": "code",
   "execution_count": null,
   "metadata": {},
   "outputs": [],
   "source": []
  },
  {
   "cell_type": "code",
   "execution_count": 14,
   "metadata": {},
   "outputs": [
    {
     "data": {
      "text/plain": [
       "{'fov_pix': 401,\n",
       " 'oversample': 4,\n",
       " 'tel_pupil': None,\n",
       " 'opd': ('OPD_RevW_ote_for_NIRCam_requirements.fits.gz', 0),\n",
       " 'jitter': 'gaussian',\n",
       " 'jitter_sigma': 0.007,\n",
       " 'pupil': 'CLEAR'}"
      ]
     },
     "execution_count": 14,
     "metadata": {},
     "output_type": "execute_result"
    }
   ],
   "source": [
    "kwargs"
   ]
  },
  {
   "cell_type": "code",
   "execution_count": 15,
   "metadata": {},
   "outputs": [
    {
     "name": "stdout",
     "output_type": "stream",
     "text": [
      "NRCB5 (1831.987947898948, 1848.1500601299413)\n",
      "NRCB5 (1832.3954940684293, 1944.0272786502796)\n"
     ]
    }
   ],
   "source": [
    "wpsf_a = nrc_utils.gen_webbpsf_siwfe(nrc.filter, (v2_asec[0], v3_asec[0]), **kwargs)\n",
    "wpsf_b = nrc_utils.gen_webbpsf_siwfe(nrc.filter, (v2_asec[-1], v3_asec[-1]), **kwargs)"
   ]
  },
  {
   "cell_type": "code",
   "execution_count": 16,
   "metadata": {},
   "outputs": [
    {
     "name": "stdout",
     "output_type": "stream",
     "text": [
      "-0.0001448672452480041 0.000343602273351451\n"
     ]
    },
    {
     "data": {
      "image/png": "[encoded data removed]",
      "text/plain": [
       "<Figure size 1008x288 with 3 Axes>"
      ]
     },
     "metadata": {
      "needs_background": "light"
     },
     "output_type": "display_data"
    }
   ],
   "source": [
    "im1 = wpsf_a[1].data\n",
    "im2 = wpsf_b[1].data\n",
    "diff = im1 - im2\n",
    "\n",
    "import matplotlib.cm as cm\n",
    "minmax = 2e-4\n",
    "\n",
    "fig, axes = plt.subplots(1,3, figsize=(14,4))\n",
    "axes[0].imshow(diff, vmin=-minmax, vmax=minmax, cmap=cm.RdBu)\n",
    "axes[1].imshow(im1**0.2)\n",
    "axes[2].imshow(im2**0.2)\n",
    "\n",
    "print(np.min(diff), np.max(diff))\n",
    "\n",
    "for ax in axes:\n",
    "    ax.set_xlim([180,220])\n",
    "    ax.set_ylim([180,220])\n",
    "    \n",
    "fig.tight_layout()"
   ]
  },
  {
   "cell_type": "code",
   "execution_count": 17,
   "metadata": {},
   "outputs": [
    {
     "name": "stdout",
     "output_type": "stream",
     "text": [
      "-6.809543780388321e-05 9.50669141781546e-05\n"
     ]
    },
    {
     "data": {
      "image/png": "[encoded data removed]",
      "text/plain": [
       "<Figure size 1008x288 with 3 Axes>"
      ]
     },
     "metadata": {
      "needs_background": "light"
     },
     "output_type": "display_data"
    }
   ],
   "source": [
    "im1 = psf_all[0]\n",
    "im2 = psf_all[-1]\n",
    "diff = im1 - im2\n",
    "\n",
    "import matplotlib.cm as cm\n",
    "minmax = 1e-4\n",
    "\n",
    "fig, axes = plt.subplots(1,3, figsize=(14,4))\n",
    "axes[0].imshow(diff, vmin=-minmax, vmax=minmax, cmap=cm.RdBu)\n",
    "axes[1].imshow(im1**0.2)\n",
    "axes[2].imshow(im2**0.2)\n",
    "\n",
    "print(np.min(diff), np.max(diff))\n",
    "\n",
    "for ax in axes:\n",
    "    ax.set_xlim([180,220])\n",
    "    ax.set_ylim([180,220])\n",
    "    \n",
    "fig.tight_layout()"
   ]
  },
  {
   "cell_type": "code",
   "execution_count": null,
   "metadata": {},
   "outputs": [],
   "source": []
  },
  {
   "cell_type": "code",
   "execution_count": null,
   "metadata": {},
   "outputs": [],
   "source": []
  },
  {
   "cell_type": "code",
   "execution_count": null,
   "metadata": {},
   "outputs": [],
   "source": []
  },
  {
   "cell_type": "code",
   "execution_count": null,
   "metadata": {},
   "outputs": [],
   "source": []
  },
  {
   "cell_type": "code",
   "execution_count": null,
   "metadata": {},
   "outputs": [],
   "source": []
  },
  {
   "cell_type": "code",
   "execution_count": 23,
   "metadata": {},
   "outputs": [],
   "source": [
    "from pynrc import nrc_utils\n",
    "from pynrc import NIRCam"
   ]
  },
  {
   "cell_type": "code",
   "execution_count": null,
   "metadata": {},
   "outputs": [],
   "source": [
    "class nrc_field_wfe(NIRCam):\n",
    "    \"\"\"NIRCam class with field-dependent coefficient\n",
    "\n",
    "    Subclass of the :mod:`~pynrc.NIRCam` instrument class with updates for PSF\n",
    "    generation of WFE variations across the field.\n",
    "\n",
    "    Parameters\n",
    "    ----------\n",
    "    wind_mode : str\n",
    "        'FULL', 'STRIPE', or 'WINDOW'\n",
    "    xpix : int\n",
    "        Size of the detector readout along the x-axis. The detector is\n",
    "        assumed to be in window mode  unless the user explicitly\n",
    "        sets wind_mode='FULL'.\n",
    "    ypix : int\n",
    "        Size of the detector readout along the y-axis. The detector is\n",
    "        assumed to be in window mode  unless the user explicitly\n",
    "        sets wind_mode='FULL'.\n",
    "\n",
    "    \"\"\"\n",
    "\n",
    "    def __init__(self, verbose=False, **kwargs):\n",
    "\n",
    "        #super(NIRCam,self).__init__(**kwargs)\n",
    "        NIRCam.__init__(self, **kwargs)\n",
    "\n",
    "        # Background/off-axis PSF coeff updates\n",
    "        # -------------------------------------\n",
    "        # Background PSF should be same size as primary PSF\n",
    "        # Used to generate position-dependent off-axis PSFs\n",
    "        if self.mask is not None:\n",
    "            if verbose: print(\"Generating background PSF coefficients...\")\n",
    "            log_prev = conf.logging_level\n",
    "            self._fov_pix_bg = self.psf_info['fov_pix']\n",
    "            setup_logging('WARN', verbose=False)\n",
    "            self.update_psf_coeff()\n",
    "            setup_logging(log_prev, verbose=False)\n",
    "\n",
    "        # Cached PSFs\n",
    "        # -----------\n",
    "        # Generate cached PSFs for quick retrieval.\n",
    "        # A PSF centered on the mask and one fully off-axis.\n",
    "        if verbose: print(\"Generating oversampled PSFs...\")\n",
    "        self._gen_cached_psfs()\n",
    "\n",
    "        # Set locations based on detector\n",
    "        self._set_xypos()\n",
    "        # Create mask throughput images seen by each detector\n",
    "        self._gen_cmask()"
   ]
  }
 ],
 "metadata": {
  "kernelspec": {
   "display_name": "Python 3",
   "language": "python",
   "name": "python3"
  },
  "language_info": {
   "codemirror_mode": {
    "name": "ipython",
    "version": 3
   },
   "file_extension": ".py",
   "mimetype": "text/x-python",
   "name": "python",
   "nbconvert_exporter": "python",
   "pygments_lexer": "ipython3",
   "version": "3.7.1"
  }
 },
 "nbformat": 4,
 "nbformat_minor": 2
}
