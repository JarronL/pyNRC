{
 "cells": [
  {
   "cell_type": "markdown",
   "metadata": {},
   "source": [
    "# Basic pyNRC Functionality and Usage\n",
    "\n",
    "This tutorial walks through the basic usage of the `pynrc` package to calculate sensitivities and saturation limits for NIRCam in a variety of modes. "
   ]
  },
  {
   "cell_type": "code",
   "execution_count": 1,
   "metadata": {
    "collapsed": true
   },
   "outputs": [],
   "source": [
    "# Makes print and division act like Python 3\n",
    "from __future__ import print_function, division\n",
    "\n",
    "# Import the usual libraries\n",
    "import numpy as np\n",
    "import matplotlib\n",
    "import matplotlib.pyplot as plt\n",
    "\n",
    "# Enable inline plotting at lower left\n",
    "%matplotlib inline\n",
    "\n",
    "from IPython.display import display, Latex, clear_output"
   ]
  },
  {
   "cell_type": "markdown",
   "metadata": {},
   "source": [
    "## Getting Started\n",
    "\n",
    "We assume you have already installed `pynrc` as outlined in the documentation"
   ]
  },
  {
   "cell_type": "code",
   "execution_count": 2,
   "metadata": {
    "collapsed": true
   },
   "outputs": [],
   "source": [
    "# import main module\n",
    "import pynrc\n",
    "from pynrc import nrc_utils\n",
    "\n",
    "# import pysynphot instance\n",
    "from pynrc.nrc_utils import S"
   ]
  },
  {
   "cell_type": "markdown",
   "metadata": {},
   "source": [
    "Log messages for `pynrc` follow the same the logging functionality included in `webbpsf`. Logging levels include `DEBUG`, `INFO`, `WARN`, and `ERROR`. "
   ]
  },
  {
   "cell_type": "code",
   "execution_count": 3,
   "metadata": {},
   "outputs": [
    {
     "name": "stdout",
     "output_type": "stream",
     "text": [
      "pyNRC log messages of level INFO and above will be shown.\n",
      "pyNRC log outputs will be directed to the screen.\n"
     ]
    }
   ],
   "source": [
    "pynrc.setup_logging()"
   ]
  },
  {
   "cell_type": "markdown",
   "metadata": {},
   "source": [
    "If you get tired of the `INFO` level messages, simply type:\n",
    "```python\n",
    "pynrc.setup_logging('WARN', verbose=False)\n",
    "```    "
   ]
  },
  {
   "cell_type": "markdown",
   "metadata": {},
   "source": [
    "## First NIRCam Observation\n",
    "\n",
    "The basic NIRCam object consists of all the instrument settings one would specify for a JWST observation, including filter, pupil, and coronagraphic mask selections along with detector subarray settings and ramp sampling cadence (i.e., `MULTIACCUM`).\n",
    "\n",
    "The NIRCam class makes use of high order polynomial coefficient maps to quickly generate large numbers of monochromatic PSFs that can be convolved with arbitrary spectra and collapsed into a final broadband PSF (or dispersed with NIRCam's slitless grisms). The PSF coefficients are calculated from a series of WebbPSF monochromatic PSFs and saved to disk. These polynomial coefficients are further modifed based on focal plane position and drift in the wavefront error relative to nominal OPD mao.\n",
    "\n",
    "There are a multitude of posssible keywords one can pass upon initialization, including certain detector settings and PSF generation parameters. If not passed initially, then defaults are assumed. The user can update these parameters at any time by either setting attributes directly (e.g., `filter`, `mask`, `pupil`, etc.) along with using the `update_detectors()` and `update_psf_coeff()` methods.\n",
    "\n",
    "For instance,\n",
    "```python\n",
    "nrc = pynrc.NIRCam('F210M')\n",
    "nrc.module = 'B'\n",
    "nrc.update_detectors(read_mode='DEEP8', nint=10, ngroup=5)\n",
    "```\n",
    "is the same as:\n",
    "```python\n",
    "nrc = pynrc.NIRCam('F210M', module='B', read_mode='DEEP8', nint=10, ngroup=5)\n",
    "```\n",
    "\n",
    "To start, we'll set up a simple observation using the `F430M` filter. Defaults will be populated for unspecified attributes such as `module`, `pupil`, `mask`, etc. \n",
    "\n",
    "**Check the function docstrings for more detailed information**"
   ]
  },
  {
   "cell_type": "code",
   "execution_count": 4,
   "metadata": {},
   "outputs": [
    {
     "name": "stdout",
     "output_type": "stream",
     "text": [
      "[     pynrc:INFO] Initializing SCA 485/A5\n",
      "[     pynrc:INFO] RAPID readout mode selected.\n",
      "[     pynrc:INFO] Setting nf=1, nd1=0, nd2=0, nd3=0.\n",
      "[     pynrc:INFO] Updating PSF coeff with fov_pix=33 and oversample=4\n",
      "Filter: F430M;  Pupil: CLEAR;  Mask: None;  Module: A\n"
     ]
    }
   ],
   "source": [
    "nrc = pynrc.NIRCam(filter='F430M')\n",
    "print('Filter: {};  Pupil: {};  Mask: {};  Module: {}'\\\n",
    "      .format(nrc.filter, nrc.pupil, nrc.mask, nrc.module))"
   ]
  },
  {
   "cell_type": "markdown",
   "metadata": {},
   "source": [
    "Keyword information for detector and PSF settings are stored in the `det_info` and `psf_info` dictionaries. These cannot be modified directly, but instead are updated via the `update_detectors()` and `update_psf_coeff()` methods."
   ]
  },
  {
   "cell_type": "code",
   "execution_count": 5,
   "metadata": {},
   "outputs": [
    {
     "name": "stdout",
     "output_type": "stream",
     "text": [
      "Detector Info Keywords:\n",
      "{'wind_mode': 'FULL', 'xpix': 2048, 'ypix': 2048, 'x0': 0, 'y0': 0, 'read_mode': 'RAPID', 'nint': 1, 'ngroup': 1, 'nf': 1, 'nd1': 0, 'nd2': 0, 'nd3': 0}\n",
      "\n",
      "PSF Info Keywords:\n",
      "{'fov_pix': 33, 'oversample': 4, 'offset_r': 0, 'offset_theta': 0, 'tel_pupil': None, 'save': True, 'force': False, 'opd': ('OPD_RevW_ote_for_NIRCam_requirements.fits', 0), 'jitter': 'gaussian', 'jitter_sigma': 0.007}\n"
     ]
    }
   ],
   "source": [
    "print('Detector Info Keywords:')\n",
    "print(nrc.det_info)\n",
    "print('')\n",
    "print('PSF Info Keywords:')\n",
    "print(nrc.psf_info)"
   ]
  },
  {
   "cell_type": "markdown",
   "metadata": {},
   "source": [
    "PSF coefficient information is stored in the `psf_coeff` attribute. This data is accessed by many of the NIRCam class functions to generate PSFs with arbitrary wavelength weights, such as the `gen_psf()` function."
   ]
  },
  {
   "cell_type": "code",
   "execution_count": 6,
   "metadata": {},
   "outputs": [
    {
     "data": {
      "image/png": "[encoded data removed]",
      "text/plain": [
       "<matplotlib.figure.Figure at 0x1213f8978>"
      ]
     },
     "metadata": {},
     "output_type": "display_data"
    }
   ],
   "source": [
    "# Demonstrate the color difference of the PSF for different spectral types, same magnitude\n",
    "sp_M0V = pynrc.stellar_spectrum('M0V', 10, 'vegamag', nrc.bandpass)\n",
    "sp_A0V = pynrc.stellar_spectrum('A0V', 10, 'vegamag', nrc.bandpass)\n",
    "\n",
    "# Generate oversampled PSFs (counts/sec)\n",
    "_, psf_M0V = nrc.gen_psf(sp_M0V, return_oversample=True)\n",
    "_, psf_A0V = nrc.gen_psf(sp_A0V, return_oversample=True)\n",
    "\n",
    "fig, axes = plt.subplots(1,3, figsize=(12,4))\n",
    "\n",
    "axes[0].imshow(psf_M0V**0.5)\n",
    "axes[0].set_title('M0V PSF')\n",
    "axes[1].imshow(psf_A0V**0.5)\n",
    "axes[1].set_title('A0V PSF')\n",
    "\n",
    "diff = psf_M0V - psf_A0V\n",
    "\n",
    "minmax = np.abs(diff).max() / 2\n",
    "axes[2].imshow(diff, cmap='RdBu', vmin=-minmax, vmax=minmax)\n",
    "axes[2].set_title('Difference')\n",
    "\n",
    "fig.tight_layout()"
   ]
  },
  {
   "cell_type": "markdown",
   "metadata": {},
   "source": [
    "Bandpass information is stored in the `bandpass` attribute and can be plotted with the convenience function `plot_bandpass()`."
   ]
  },
  {
   "cell_type": "code",
   "execution_count": 7,
   "metadata": {
    "scrolled": false
   },
   "outputs": [
    {
     "data": {
      "text/plain": [
       "<matplotlib.axes._subplots.AxesSubplot at 0x1214066d8>"
      ]
     },
     "execution_count": 7,
     "metadata": {},
     "output_type": "execute_result"
    },
    {
     "data": {
      "image/png": "[encoded data removed]",
      "text/plain": [
       "<matplotlib.figure.Figure at 0x111f26e80>"
      ]
     },
     "metadata": {},
     "output_type": "display_data"
    }
   ],
   "source": [
    "nrc.plot_bandpass()"
   ]
  },
  {
   "cell_type": "markdown",
   "metadata": {},
   "source": [
    "### 1. Saturation Limits\n",
    "\n",
    "One of the most basic functions is to determine the saturation limit of a CDS observation, so let's try this for the current filter selection. Generally, saturation is considered to be 80% of the full well."
   ]
  },
  {
   "cell_type": "code",
   "execution_count": 8,
   "metadata": {},
   "outputs": [
    {
     "name": "stdout",
     "output_type": "stream",
     "text": [
      "New Ramp Settings:\n",
      "  read_mode :    RAPID\n",
      "  nf        :        1\n",
      "  nd2       :        0\n",
      "  ngroup    :        2\n",
      "  nint      :        1\n",
      "New Detector Settings\n",
      "  wind_mode :     FULL\n",
      "  xpix      :     2048\n",
      "  ypix      :     2048\n",
      "  x0        :        0\n",
      "  y0        :        0\n",
      "New Ramp Times\n",
      "  t_group   :   10.737\n",
      "  t_frame   :   10.737\n",
      "  t_int     :   21.474\n",
      "  t_int_tot :   32.210\n",
      "  t_exp     :   21.474\n",
      "  t_acq     :   32.216\n"
     ]
    }
   ],
   "source": [
    "# Turn off those pesky informational texts\n",
    "pynrc.setup_logging('WARN', verbose=False)\n",
    "\n",
    "# Configure the observation for CDS frames (ngroup=2)\n",
    "# Print out frame and ramp information using verbose=True\n",
    "nrc.update_detectors(ngroup=2, verbose=True)"
   ]
  },
  {
   "cell_type": "markdown",
   "metadata": {},
   "source": [
    "The `sat_limits()` function returns a dictionary of results. There's the option in include a Pysynphot spectrum, but if none is specificed the it defaults to a G2V star."
   ]
  },
  {
   "cell_type": "code",
   "execution_count": 9,
   "metadata": {},
   "outputs": [
    {
     "name": "stdout",
     "output_type": "stream",
     "text": [
      "F430M Saturation Limit assuming G2V source: 12.18 vegamag\n",
      "{'satmag': 12.181108416423491, 'units': 'vegamag', 'Spectrum': 'G2V', 'bp_lim': 'F430M'}\n"
     ]
    }
   ],
   "source": [
    "# Set verbose=True to print results in a user-friendly manner\n",
    "sat_lims = nrc.sat_limits(verbose=True)\n",
    "\n",
    "# Dictionary information\n",
    "print(sat_lims)"
   ]
  },
  {
   "cell_type": "markdown",
   "metadata": {},
   "source": [
    "By default, the function `sat_limits()` uses a G2V stellar spectrum, but any arbritrary spectrum can be passed via the `sp` keyword. In addition, using the `bp_lim` keyword, you can use spectral information to determine the brightness in some other bandpass that saturates the source within the NIRCam filter. "
   ]
  },
  {
   "cell_type": "code",
   "execution_count": 10,
   "metadata": {},
   "outputs": [
    {
     "name": "stdout",
     "output_type": "stream",
     "text": [
      "Ks Saturation Limit for F430M assuming M0V source: 12.37 vegamag\n"
     ]
    }
   ],
   "source": [
    "# Spectrum of an M0V star (not normalized)\n",
    "sp_M0V = pynrc.stellar_spectrum('M0V')\n",
    "# 2MASS Ks Bandpass\n",
    "bp_k = pynrc.bp_2mass('K')\n",
    "\n",
    "sat_lims = nrc.sat_limits(sp=sp_M0V, bp_lim=bp_k, verbose=True)"
   ]
  },
  {
   "cell_type": "markdown",
   "metadata": {},
   "source": [
    "Now, let's get the same saturation limit assuming a 128x128 subarray."
   ]
  },
  {
   "cell_type": "code",
   "execution_count": 11,
   "metadata": {},
   "outputs": [
    {
     "name": "stdout",
     "output_type": "stream",
     "text": [
      "Ks Saturation Limit for F430M assuming M0V source: 7.94 vegamag\n"
     ]
    }
   ],
   "source": [
    "nrc.update_detectors(wind_mode='WINDOW', xpix=128, ypix=128)\n",
    "sat_lims = nrc.sat_limits(sp=sp_M0V, bp_lim=bp_k, verbose=True)"
   ]
  },
  {
   "cell_type": "markdown",
   "metadata": {},
   "source": [
    "You can also use the `saturation_levels()` function to generate an image of a point source indicating the fractional well fill level."
   ]
  },
  {
   "cell_type": "code",
   "execution_count": 12,
   "metadata": {
    "scrolled": false
   },
   "outputs": [
    {
     "name": "stdout",
     "output_type": "stream",
     "text": [
      "Max Well Fraction: 0.76\n"
     ]
    }
   ],
   "source": [
    "# Spectum of A0V star with Ks = 8 mag\n",
    "sp = pynrc.stellar_spectrum('M0V', 8, 'vegamag', bp_k)\n",
    "sat_levels = nrc.saturation_levels(sp, full_size=False, ngroup=nrc.det_info['ngroup'])\n",
    "\n",
    "print('Max Well Fraction: {:.2f}'.format(sat_levels.max()))"
   ]
  },
  {
   "cell_type": "code",
   "execution_count": 13,
   "metadata": {},
   "outputs": [
    {
     "data": {
      "image/png": "[encoded data removed]",
      "text/plain": [
       "<matplotlib.figure.Figure at 0x11881b2b0>"
      ]
     },
     "metadata": {},
     "output_type": "display_data"
    }
   ],
   "source": [
    "# Plot the well fill levels for each pixel\n",
    "fig, ax = plt.subplots(1,1)\n",
    "\n",
    "extent = 0.5*nrc.psf_info['fov_pix'] * np.array([-1,1,-1,1])\n",
    "cax = ax.imshow(sat_levels, extent=extent, vmin=0, vmax=1)\n",
    "ax.set_xlabel('Pixels')\n",
    "ax.set_ylabel('Pixels')\n",
    "ax.set_title('Well Fraction in {} of $K_s = 5$ M0V star'.format(nrc.filter))\n",
    "\n",
    "cbar = fig.colorbar(cax)\n",
    "cbar.set_label('Well Fill Fraction')\n",
    "\n",
    "ax.tick_params(axis='both', color='white', which='both')\n",
    "for k in ax.spines.keys():\n",
    "    ax.spines[k].set_color('white')"
   ]
  },
  {
   "cell_type": "markdown",
   "metadata": {},
   "source": [
    "Information for slitless grism observations show wavelength-dependent results."
   ]
  },
  {
   "cell_type": "code",
   "execution_count": 14,
   "metadata": {
    "scrolled": true
   },
   "outputs": [
    {
     "name": "stdout",
     "output_type": "stream",
     "text": [
      "Ks Saturation Limit for F444W assuming M0V source:\n",
      "   Wave   Sat Limit (vegamag)\n",
      "--------- -------------------\n",
      "     3.90                4.50\n",
      "     4.00                4.49\n",
      "     4.10                4.38\n",
      "     4.20                4.26\n",
      "     4.30                4.11\n",
      "     4.40                3.87\n",
      "     4.50                3.69\n",
      "     4.60                3.53\n",
      "     4.70                3.35\n",
      "     4.80                3.18\n",
      "     4.90                2.97\n",
      "     5.00                2.38\n"
     ]
    }
   ],
   "source": [
    "nrc = pynrc.NIRCam('F444W', pupil='GRISM0', ngroup=2, wind_mode='STRIPE', ypix=128)\n",
    "sat_lims = nrc.sat_limits(sp=sp_M0V, bp_lim=bp_k, verbose=True)"
   ]
  },
  {
   "cell_type": "markdown",
   "metadata": {},
   "source": [
    "### 2. Sensitivity Limits\n",
    "\n",
    "Similarly, we can determine sensitivity limits of point sources (and extended sources) for the defined instrument configuration. By default, the `sensitivity()` function uses a flat spectrum. In this case, let's find the sensitivities NIRCam can reach in a single ~1000sec integration with the F430M filter. Noise values will depend on the exact `MULTIACCUM` settings."
   ]
  },
  {
   "cell_type": "code",
   "execution_count": 15,
   "metadata": {},
   "outputs": [
    {
     "name": "stdout",
     "output_type": "stream",
     "text": [
      "{'t_frame': 10.73677, 't_group': 107.3677, 't_int': 1052.20346, 't_exp': 1052.20346, 't_acq': 1062.94547, 't_int_tot': 1062.94023}\n"
     ]
    }
   ],
   "source": [
    "nrc = pynrc.NIRCam('F430M')\n",
    "nrc.update_detectors(read_mode='MEDIUM8', ngroup=10)\n",
    "# The multiaccum_times attribute describes the various timing information\n",
    "print(nrc.multiaccum_times)"
   ]
  },
  {
   "cell_type": "code",
   "execution_count": 16,
   "metadata": {},
   "outputs": [
    {
     "name": "stdout",
     "output_type": "stream",
     "text": [
      "Point Source Sensitivity (5-sigma): 23.32 vegamag\n",
      "Surface Brightness Sensitivity (5-sigma): 21.22 vegamag/arcsec^2\n"
     ]
    }
   ],
   "source": [
    "sens = nrc.sensitivity(nsig=5, units='vegamag', verbose=True)"
   ]
  },
  {
   "cell_type": "markdown",
   "metadata": {},
   "source": [
    "The sensitivity function also includes a keyword `forwardSNR`, which allows the user to pass a normalized spectrum and estimate the SNR For some extraction aperture."
   ]
  },
  {
   "cell_type": "code",
   "execution_count": 17,
   "metadata": {},
   "outputs": [
    {
     "name": "stdout",
     "output_type": "stream",
     "text": [
      "Point Source SNR (20.00 vegamag): 75.53 sigma\n",
      "Surface Brightness SNR (20.00 vegamag/arcsec^2): 14.47 sigma\n"
     ]
    }
   ],
   "source": [
    "sp = pynrc.stellar_spectrum('M0V', 20, 'vegamag', nrc.bandpass)\n",
    "snr = nrc.sensitivity(sp=sp, forwardSNR=True, units='vegamag', verbose=True)"
   ]
  },
  {
   "cell_type": "markdown",
   "metadata": {},
   "source": [
    "### 3. Ramp Optimization\n",
    "\n",
    "Armed with these two basic functions, we can attempt to determine the best instrument settings to optimize for SNR and efficiency. In these types of optimizations, we must consider observational constraints such as saturation levels, SNR requirements, and limits on acquisition time.\n",
    "\n",
    "**Note**: The reported acquisition times do not include obsevatory and instrument-level overheads, such as slew times, filter changes, script compilations, etc. It only includes detector readout times (including reset frames and Fast Row Resets).\n",
    "\n",
    "For instance, we want to observe an M-Dwarf (K=18 mag) in the F430M filter. What is the most efficient configuration to obtain an SNR of 100?"
   ]
  },
  {
   "cell_type": "code",
   "execution_count": 18,
   "metadata": {
    "collapsed": true
   },
   "outputs": [],
   "source": [
    "# Setup observation\n",
    "nrc = pynrc.NIRCam('F430M', wind_mode='WINDOW', xpix=160, ypix=160)\n",
    "\n",
    "# Spectrum of an M2V star\n",
    "bp_k = pynrc.bp_2mass('K')\n",
    "sp_M0V = pynrc.stellar_spectrum('M2V', 18, 'vegamag', bp_k)"
   ]
  },
  {
   "cell_type": "code",
   "execution_count": 19,
   "metadata": {},
   "outputs": [
    {
     "name": "stdout",
     "output_type": "stream",
     "text": [
      "BRIGHT1\n",
      "BRIGHT2\n",
      "DEEP2\n",
      "DEEP8\n",
      "MEDIUM2\n",
      "MEDIUM8\n",
      "RAPID\n",
      "SHALLOW2\n",
      "SHALLOW4\n",
      " Pattern   NGRP NINT   t_int     t_exp     t_acq     SNR      Well     eff   \n",
      "---------- ---- ---- --------- --------- --------- -------- -------- --------\n",
      "DEEP8         5   10     24.52    245.20    248.04    124.5    0.006    7.904\n",
      "MEDIUM8       6   12     16.16    193.93    197.34    100.2    0.004    7.134\n",
      "MEDIUM8       6   13     16.16    210.09    213.78    104.3    0.004    7.134\n",
      "MEDIUM2       8   10     20.06    200.62    203.46     98.6    0.005    6.914\n",
      "MEDIUM2       8   11     20.06    220.68    223.80    103.4    0.005    6.914\n",
      "SHALLOW4     10   15     13.65    204.80    209.06     99.4    0.003    6.876\n",
      "SHALLOW4     10   16     13.65    218.45    222.99    102.7    0.003    6.876\n",
      "DEEP2         5   10     22.85    228.48    231.32    102.9    0.005    6.766\n",
      "MEDIUM8       5   18     13.37    240.74    245.85    104.3    0.003    6.654\n",
      "SHALLOW4      9   20     12.26    245.20    250.88    104.3    0.003    6.583\n",
      "...         ...  ...       ...       ...       ...      ...      ...      ...\n",
      "RAPID        10  511      2.79   1423.85   1568.87    101.1    0.001    2.551\n",
      "RAPID        10  512      2.79   1426.64   1571.94    101.2    0.001    2.551\n",
      "RAPID        10  513      2.79   1429.42   1575.01    101.3    0.001    2.551\n",
      "RAPID        10  514      2.79   1432.21   1578.08    101.4    0.001    2.551\n",
      "RAPID        10  515      2.79   1435.00   1581.15    101.5    0.001    2.551\n",
      "RAPID        10  516      2.79   1437.78   1584.22    101.6    0.001    2.551\n",
      "RAPID        10  517      2.79   1440.57   1587.29    101.7    0.001    2.551\n",
      "RAPID        10  518      2.79   1443.36   1590.36    101.8    0.001    2.551\n",
      "RAPID        10  519      2.79   1446.14   1593.43    101.9    0.001    2.551\n",
      "RAPID        10  520      2.79   1448.93   1596.50    102.0    0.001    2.551\n",
      "RAPID        10  521      2.79   1451.71   1599.57    102.1    0.001    2.551\n",
      "Length = 50 rows\n"
     ]
    }
   ],
   "source": [
    "# Run optimizer. Result is a ranked list sorted by efficiency.\n",
    "tbl = nrc.ramp_optimize(sp_M0V, snr_goal=100, ng_min=5, nint_min=10, verbose=True)"
   ]
  },
  {
   "cell_type": "markdown",
   "metadata": {},
   "source": [
    "For a more complicated scenario, consider the M-Dwarf orbiting a F0V primary. In this scenario, the F0V star will saturate much more quickly compared to the fainter companion, so it limits which ramp settings we can use (assuming we want unsaturated frames, which isn't always necessarily true)."
   ]
  },
  {
   "cell_type": "code",
   "execution_count": 20,
   "metadata": {},
   "outputs": [
    {
     "name": "stdout",
     "output_type": "stream",
     "text": [
      "BRIGHT1\n",
      "BRIGHT2\n",
      "DEEP2\n",
      "DEEP8\n",
      "MEDIUM2\n",
      "MEDIUM8\n",
      "RAPID\n",
      "SHALLOW2\n",
      "SHALLOW4\n",
      " Pattern   NGRP NINT   t_int     t_exp     t_acq     SNR      Well     eff   \n",
      "---------- ---- ---- --------- --------- --------- -------- -------- --------\n",
      "DEEP8         5   10     24.52    245.20    248.04    124.5    0.227    7.904\n",
      "MEDIUM8       6   12     16.16    193.93    197.34    100.2    0.149    7.134\n",
      "MEDIUM8       6   13     16.16    210.09    213.78    104.3    0.149    7.134\n",
      "MEDIUM2       8   10     20.06    200.62    203.46     98.6    0.185    6.914\n",
      "MEDIUM2       8   11     20.06    220.68    223.80    103.4    0.185    6.914\n",
      "SHALLOW4     10   15     13.65    204.80    209.06     99.4    0.126    6.876\n",
      "SHALLOW4     10   16     13.65    218.45    222.99    102.7    0.126    6.876\n",
      "DEEP2         5   10     22.85    228.48    231.32    102.9    0.211    6.766\n",
      "MEDIUM8       5   18     13.37    240.74    245.85    104.3    0.124    6.654\n",
      "SHALLOW4      9   20     12.26    245.20    250.88    104.3    0.113    6.583\n",
      "...         ...  ...       ...       ...       ...      ...      ...      ...\n",
      "RAPID        10  511      2.79   1423.85   1568.87    101.1    0.026    2.551\n",
      "RAPID        10  512      2.79   1426.64   1571.94    101.2    0.026    2.551\n",
      "RAPID        10  513      2.79   1429.42   1575.01    101.3    0.026    2.551\n",
      "RAPID        10  514      2.79   1432.21   1578.08    101.4    0.026    2.551\n",
      "RAPID        10  515      2.79   1435.00   1581.15    101.5    0.026    2.551\n",
      "RAPID        10  516      2.79   1437.78   1584.22    101.6    0.026    2.551\n",
      "RAPID        10  517      2.79   1440.57   1587.29    101.7    0.026    2.551\n",
      "RAPID        10  518      2.79   1443.36   1590.36    101.8    0.026    2.551\n",
      "RAPID        10  519      2.79   1446.14   1593.43    101.9    0.026    2.551\n",
      "RAPID        10  520      2.79   1448.93   1596.50    102.0    0.026    2.551\n",
      "RAPID        10  521      2.79   1451.71   1599.57    102.1    0.026    2.551\n",
      "Length = 50 rows\n"
     ]
    }
   ],
   "source": [
    "sp_F0V = pynrc.stellar_spectrum('F0V', 13.7, 'vegamag', bp_k)\n",
    "tbl = nrc.ramp_optimize(sp_M0V, sp_bright=sp_F0V, \n",
    "                        snr_goal=100, ng_min=5, nint_min=10, verbose=True)"
   ]
  },
  {
   "cell_type": "code",
   "execution_count": null,
   "metadata": {
    "collapsed": true
   },
   "outputs": [],
   "source": []
  }
 ],
 "metadata": {
  "kernelspec": {
   "display_name": "Python 3",
   "language": "python",
   "name": "python3"
  },
  "language_info": {
   "codemirror_mode": {
    "name": "ipython",
    "version": 3
   },
   "file_extension": ".py",
   "mimetype": "text/x-python",
   "name": "python",
   "nbconvert_exporter": "python",
   "pygments_lexer": "ipython3",
   "version": "3.6.1"
  }
 },
 "nbformat": 4,
 "nbformat_minor": 2
}
