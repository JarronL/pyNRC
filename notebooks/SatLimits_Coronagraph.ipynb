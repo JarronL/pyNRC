{
 "cells": [
  {
   "cell_type": "code",
   "execution_count": 22,
   "metadata": {
    "collapsed": true
   },
   "outputs": [],
   "source": [
    "# Makes print and division act like Python 3\n",
    "from __future__ import print_function, division\n",
    "\n",
    "# Import the usual libraries\n",
    "import numpy as np\n",
    "import matplotlib\n",
    "import matplotlib.pyplot as plt\n",
    "\n",
    "# Enable inline plotting at lower left\n",
    "%matplotlib inline\n",
    "matplotlib.rcParams['image.origin'] = 'lower'\n",
    "matplotlib.rcParams['image.interpolation'] = 'none'\n",
    "\n",
    "# seaborn package for making pretty plots, but not necessary\n",
    "try:\n",
    "    import seaborn as sns\n",
    "    params =   {'xtick.direction': 'in', 'ytick.direction': 'in', 'font.family': ['serif'],\n",
    "                'text.usetex': True, 'text.latex.preamble': ['\\usepackage{gensymb}']}\n",
    "    sns.set_style(\"ticks\", params)\n",
    "except ImportError:\n",
    "    print('Seaborn module is not installed.')\n",
    "    \n",
    "from IPython.display import display, Latex, clear_output"
   ]
  },
  {
   "cell_type": "code",
   "execution_count": 23,
   "metadata": {
    "collapsed": true
   },
   "outputs": [],
   "source": [
    "import pynrc\n",
    "from pynrc import nrc_utils\n",
    "from pynrc.nrc_utils import (webbpsf, poppy, pix_noise, S)\n",
    "\n",
    "pynrc.setup_logging('WARNING', verbose=False)\n",
    "\n",
    "from astropy.io import ascii"
   ]
  },
  {
   "cell_type": "code",
   "execution_count": 24,
   "metadata": {
    "collapsed": true
   },
   "outputs": [],
   "source": [
    "# Filters\n",
    "filt_wide_sw = ['F070W', 'F090W', 'F115W', 'F150W', 'F150W2', 'F200W']\n",
    "filt_wide_lw = ['F277W', 'F322W2', 'F356W', 'F444W']\n",
    "\n",
    "filt_med_sw = ['F140M', 'F182M', 'F210M']\n",
    "filt_med_lw = ['F250M', 'F300M', 'F335M', 'F360M', 'F410M', 'F430M', 'F460M', 'F480M']\n",
    "\n",
    "filt_narr_sw = ['F187N', 'F212N']\n",
    "filt_narr_lw = ['F323N', 'F405N', 'F466N', 'F470N']\n",
    "\n",
    "filt_all_sw = filt_wide_sw + filt_med_sw\n",
    "filt_all_lw = filt_wide_lw + filt_med_lw\n",
    "filt_all = filt_all_sw + filt_all_lw"
   ]
  },
  {
   "cell_type": "code",
   "execution_count": 25,
   "metadata": {
    "collapsed": false
   },
   "outputs": [],
   "source": [
    "# K-Band Filter\n",
    "ks = ascii.read(\"2mass_ks.txt\", data_start=0)\n",
    "bp_k = S.ArrayBandpass(ks['col1']*1e4, ks['col2'], name='Ks-Band')\n",
    "#bp_k = S.ObsBandpass('johnson,k'); bp_k.name = 'K-Band'"
   ]
  },
  {
   "cell_type": "code",
   "execution_count": 26,
   "metadata": {
    "collapsed": true
   },
   "outputs": [],
   "source": [
    "sp_G2V = nrc_utils.stellar_spectrum('G2V')\n",
    "sp_A0V = nrc_utils.stellar_spectrum('A0V')\n",
    "sp_M5V = nrc_utils.stellar_spectrum('M5V')\n",
    "sptypes = [sp_M5V, sp_G2V, sp_A0V]"
   ]
  },
  {
   "cell_type": "code",
   "execution_count": 27,
   "metadata": {
    "collapsed": true
   },
   "outputs": [],
   "source": [
    "# Block of code that gets reused over and over again\n",
    "def code_block():\n",
    "    print(\"{:<6} {:>5} {:>5} {:>5}\".format('Filter', sptypes[0], sptypes[1], sptypes[2]))\n",
    "    for filt in filt_all:\n",
    "        nrc.filter = filt\n",
    "        sat_lims = []\n",
    "        for sp in sptypes:\n",
    "            d = nrc.sat_limits(sp, bp_k, verbose=False)\n",
    "            sat_lims.append(d['satmag'])\n",
    "        print(\"{:<6} {: .2f} {: .2f} {: .2f}\".format(filt, sat_lims[0], sat_lims[1], sat_lims[2]))"
   ]
  },
  {
   "cell_type": "markdown",
   "metadata": {},
   "source": [
    "## MASK210R Saturation Limits"
   ]
  },
  {
   "cell_type": "code",
   "execution_count": 28,
   "metadata": {
    "collapsed": false
   },
   "outputs": [
    {
     "name": "stdout",
     "output_type": "stream",
     "text": [
      "Filter   M5V   G2V   A0V\n",
      "F140M   1.73  2.29  2.49\n",
      "F182M   2.67  2.69  2.70\n",
      "F210M   2.35  2.35  2.36\n",
      "F070W   0.03  2.59  3.59\n",
      "F090W   1.95  3.35  3.99\n",
      "F115W   2.66  3.66  4.14\n",
      "F150W   2.96  3.34  3.43\n",
      "F150W2  3.64  4.08  4.37\n",
      "F200W   3.23  3.23  3.24\n"
     ]
    }
   ],
   "source": [
    "nrc = pynrc.NIRCam('F210M', mask='MASK210R', pupil='CIRCLYOT', oversample=2,\n",
    "                   wind_mode='WINDOW', xpix=640, ypix=640, read_mode='RAPID', ngroup=2)\n",
    "\n",
    "filt_all = filt_med_sw + filt_wide_sw\n",
    "\n",
    "code_block()"
   ]
  },
  {
   "cell_type": "markdown",
   "metadata": {},
   "source": [
    "## MASK430R Saturation Limits"
   ]
  },
  {
   "cell_type": "code",
   "execution_count": 29,
   "metadata": {
    "collapsed": false
   },
   "outputs": [
    {
     "name": "stdout",
     "output_type": "stream",
     "text": [
      "Filter   M5V   G2V   A0V\n",
      "F250M  -0.40 -0.07 -0.08\n",
      "F300M  -0.32 -0.35 -0.39\n",
      "F335M  -0.49 -0.59 -0.63\n",
      "F360M  -0.62 -0.73 -0.78\n",
      "F410M  -1.01 -1.14 -1.20\n",
      "F430M  -2.17 -2.23 -2.28\n",
      "F460M  -2.95 -2.80 -2.86\n",
      "F480M  -3.08 -2.96 -3.02\n",
      "F277W   0.71  0.87  0.84\n",
      "F322W2  0.86  0.93  0.89\n",
      "F356W   0.18  0.08  0.03\n",
      "F444W  -0.78 -0.86 -0.91\n"
     ]
    }
   ],
   "source": [
    "nrc = pynrc.NIRCam('F250M', mask='MASK430R', pupil='CIRCLYOT', oversample=2,\n",
    "                   wind_mode='WINDOW', xpix=320, ypix=320, read_mode='RAPID', ngroup=2)\n",
    "\n",
    "filt_all = filt_med_lw + filt_wide_lw\n",
    "\n",
    "code_block()"
   ]
  },
  {
   "cell_type": "markdown",
   "metadata": {},
   "source": [
    "## MASK335R (LW) Saturation Limits"
   ]
  },
  {
   "cell_type": "code",
   "execution_count": 30,
   "metadata": {
    "collapsed": false
   },
   "outputs": [
    {
     "name": "stdout",
     "output_type": "stream",
     "text": [
      "Filter   M5V   G2V   A0V\n",
      "F250M   0.22  0.56  0.54\n",
      "F300M   0.24  0.20  0.17\n",
      "F335M   0.01 -0.09 -0.13\n",
      "F360M  -0.17 -0.28 -0.33\n",
      "F410M  -0.37 -0.49 -0.55\n",
      "F430M  -1.36 -1.43 -1.48\n",
      "F460M  -1.77 -1.62 -1.67\n",
      "F480M  -1.71 -1.60 -1.66\n",
      "F277W   1.33  1.50  1.47\n",
      "F322W2  1.41  1.54  1.51\n",
      "F356W   0.65  0.55  0.50\n",
      "F444W   0.18  0.18  0.13\n"
     ]
    }
   ],
   "source": [
    "nrc = pynrc.NIRCam('F250M', mask='MASK335R', pupil='CIRCLYOT', oversample=2,\n",
    "                   wind_mode='WINDOW', xpix=320, ypix=320, read_mode='RAPID', ngroup=2)\n",
    "\n",
    "filt_all = filt_med_lw + filt_wide_lw\n",
    "\n",
    "code_block()"
   ]
  },
  {
   "cell_type": "markdown",
   "metadata": {},
   "source": [
    "## MASK335R (SW) Saturation Limits"
   ]
  },
  {
   "cell_type": "code",
   "execution_count": 31,
   "metadata": {
    "collapsed": false
   },
   "outputs": [
    {
     "name": "stdout",
     "output_type": "stream",
     "text": [
      "Filter   M5V   G2V   A0V\n",
      "F140M   0.38  0.93  1.13\n",
      "F182M   1.61  1.62  1.64\n",
      "F210M   1.37  1.37  1.37\n",
      "F070W  -1.62  0.78  1.78\n",
      "F090W   0.32  1.75  2.40\n",
      "F115W   1.13  2.13  2.60\n",
      "F150W   1.67  2.04  2.13\n",
      "F150W2  2.45  2.79  3.04\n",
      "F200W   2.11  2.12  2.13\n"
     ]
    }
   ],
   "source": [
    "nrc = pynrc.NIRCam('F210M', mask='MASK335R', pupil='CIRCLYOT', oversample=2,\n",
    "                   wind_mode='WINDOW', xpix=640, ypix=640, read_mode='RAPID', ngroup=2)\n",
    "\n",
    "filt_all = filt_med_sw + filt_wide_sw\n",
    "\n",
    "code_block()"
   ]
  },
  {
   "cell_type": "code",
   "execution_count": 32,
   "metadata": {
    "collapsed": false
   },
   "outputs": [
    {
     "name": "stdout",
     "output_type": "stream",
     "text": [
      "Filter   M5V   G2V   A0V\n",
      "F140M  -1.10 -0.55 -0.35\n",
      "F182M   0.13  0.14  0.16\n",
      "F210M  -0.12 -0.12 -0.11\n",
      "F070W  -3.10 -0.70  0.29\n",
      "F090W  -1.16  0.27  0.92\n",
      "F115W  -0.35  0.65  1.12\n",
      "F150W   0.19  0.56  0.65\n",
      "F150W2  0.97  1.31  1.56\n",
      "F200W   0.63  0.64  0.65\n"
     ]
    }
   ],
   "source": [
    "nrc = pynrc.NIRCam('F210M', mask='MASK335R', pupil='CIRCLYOT', oversample=2,\n",
    "                   wind_mode='WINDOW', xpix=320, ypix=320, read_mode='RAPID', ngroup=2)\n",
    "\n",
    "filt_all = filt_med_sw + filt_wide_sw\n",
    "\n",
    "code_block()"
   ]
  },
  {
   "cell_type": "markdown",
   "metadata": {
    "collapsed": true
   },
   "source": [
    "## NDSQUARE Saturation Limits"
   ]
  },
  {
   "cell_type": "code",
   "execution_count": 33,
   "metadata": {
    "collapsed": false
   },
   "outputs": [
    {
     "name": "stdout",
     "output_type": "stream",
     "text": [
      "Filter   M5V   G2V   A0V\n",
      "F140M  -3.13 -2.58 -2.38\n",
      "F182M  -1.59 -1.58 -1.56\n",
      "F210M  -1.67 -1.67 -1.66\n",
      "F070W  -5.04 -2.65 -1.67\n",
      "F090W  -2.93 -1.51 -0.86\n",
      "F115W  -2.14 -1.17 -0.71\n",
      "F150W  -1.65 -1.26 -1.16\n",
      "F150W2 -0.06  0.28  0.47\n",
      "F200W  -0.79 -0.79 -0.78\n"
     ]
    }
   ],
   "source": [
    "nrc = pynrc.NIRCam('F210M', mask=None, pupil='CIRCLYOT', ND_acq=True, oversample=2,\n",
    "                   wind_mode='WINDOW', xpix=128, ypix=128, read_mode='RAPID', ngroup=2)\n",
    "\n",
    "filt_all = filt_med_sw + filt_wide_sw\n",
    "\n",
    "code_block()"
   ]
  },
  {
   "cell_type": "code",
   "execution_count": 34,
   "metadata": {
    "collapsed": false
   },
   "outputs": [
    {
     "name": "stdout",
     "output_type": "stream",
     "text": [
      "Filter   M5V   G2V   A0V\n",
      "F250M  -2.48 -2.14 -2.16\n",
      "F300M  -2.22 -2.26 -2.29\n",
      "F335M  -2.25 -2.35 -2.39\n",
      "F360M  -2.41 -2.51 -2.57\n",
      "F410M  -2.72 -2.84 -2.90\n",
      "F430M  -3.87 -3.93 -3.98\n",
      "F460M  -4.59 -4.44 -4.50\n",
      "F480M  -4.77 -4.66 -4.71\n",
      "F277W  -1.17 -1.02 -1.05\n",
      "F322W2 -0.57 -0.54 -0.58\n",
      "F356W  -1.49 -1.59 -1.64\n",
      "F444W  -2.26 -2.29 -2.35\n"
     ]
    }
   ],
   "source": [
    "nrc = pynrc.NIRCam('F250M', mask=None, pupil='CIRCLYOT', ND_acq=True, oversample=2,\n",
    "                   wind_mode='WINDOW', xpix=64, ypix=64, read_mode='RAPID', ngroup=2)\n",
    "\n",
    "filt_all = filt_med_lw + filt_wide_lw\n",
    "\n",
    "code_block()"
   ]
  },
  {
   "cell_type": "code",
   "execution_count": null,
   "metadata": {
    "collapsed": true
   },
   "outputs": [],
   "source": []
  }
 ],
 "metadata": {
  "anaconda-cloud": {},
  "kernelspec": {
   "display_name": "Python [default]",
   "language": "python",
   "name": "python2"
  },
  "language_info": {
   "codemirror_mode": {
    "name": "ipython",
    "version": 2
   },
   "file_extension": ".py",
   "mimetype": "text/x-python",
   "name": "python",
   "nbconvert_exporter": "python",
   "pygments_lexer": "ipython2",
   "version": "2.7.12"
  }
 },
 "nbformat": 4,
 "nbformat_minor": 0
}
