{
 "cells": [
  {
   "cell_type": "code",
   "execution_count": 1,
   "metadata": {
    "collapsed": true
   },
   "outputs": [],
   "source": [
    "# Makes print and division act like Python 3\n",
    "from __future__ import print_function, division\n",
    "\n",
    "# Import the usual libraries\n",
    "import numpy as np\n",
    "import matplotlib\n",
    "import matplotlib.pyplot as plt\n",
    "\n",
    "# Enable inline plotting at lower left\n",
    "%matplotlib inline\n",
    "matplotlib.rcParams['image.origin'] = 'lower'\n",
    "matplotlib.rcParams['image.interpolation'] = 'none'\n",
    "\n",
    "# seaborn package for making pretty plots, but not necessary\n",
    "try:\n",
    "    import seaborn as sns\n",
    "    params =   {'xtick.direction': 'in', 'ytick.direction': 'in', 'font.family': ['serif'],\n",
    "                'text.usetex': True, 'text.latex.preamble': ['\\usepackage{gensymb}']}\n",
    "    sns.set_style(\"ticks\", params)\n",
    "except ImportError:\n",
    "    print('Seaborn module is not installed.')\n",
    "    \n",
    "from IPython.display import display, Latex, clear_output"
   ]
  },
  {
   "cell_type": "code",
   "execution_count": 2,
   "metadata": {
    "collapsed": false,
    "scrolled": false
   },
   "outputs": [],
   "source": [
    "import pynrc\n",
    "from pynrc import nrc_utils\n",
    "from pynrc.nrc_utils import (webbpsf, poppy, pix_noise, S)"
   ]
  },
  {
   "cell_type": "code",
   "execution_count": 32,
   "metadata": {
    "collapsed": false
   },
   "outputs": [
    {
     "name": "stdout",
     "output_type": "stream",
     "text": [
      "[     pynrc:INFO] Initializing SCA 485/A5\n",
      "[     pynrc:INFO] RAPID readout mode selected.\n",
      "[     pynrc:INFO] Setting nf=1, nd1=0, nd2=0, nd3=0.\n",
      "[     pynrc:INFO] Updating PSF with oversample=4 and fov_pix=31\n"
     ]
    }
   ],
   "source": [
    "#nrc = pynrc.NIRCam('F335M', mask='MASK335R', pupil='CIRCLYOT', offset_r=5, fov_pix=320)\n",
    "nrc = pynrc.NIRCam('F335M', mask=None, pupil='CIRCLYOT', ND_acq=False)"
   ]
  },
  {
   "cell_type": "code",
   "execution_count": 33,
   "metadata": {
    "collapsed": false
   },
   "outputs": [
    {
     "name": "stdout",
     "output_type": "stream",
     "text": [
      "[     pynrc:INFO] Initializing SCA 485/A5\n",
      "[     pynrc:INFO] RAPID readout mode selected.\n",
      "[     pynrc:INFO] Setting nf=1, nd1=0, nd2=0, nd3=0.\n",
      "New Ramp Settings:\n",
      "  read_mode :    RAPID\n",
      "  nf        :        1\n",
      "  nd2       :        0\n",
      "  ngroup    :        2\n",
      "  nint      :       10\n",
      "New Detector Settings\n",
      "  wind_mode :   WINDOW\n",
      "  xpix      :       64\n",
      "  ypix      :       64\n",
      "  x0        :        0\n",
      "  y0        :        0\n",
      "New Ramp Times\n",
      "  t_group   :    0.050\n",
      "  t_frame   :    0.050\n",
      "  t_int     :    0.100\n",
      "  t_exp     :    1.003\n",
      "  t_acq     :    1.505\n"
     ]
    }
   ],
   "source": [
    "nrc.update_detectors(nint=10, ngroup=2, verbose=True, wind_mode='WINDOW', xpix=64, ypix=64)"
   ]
  },
  {
   "cell_type": "code",
   "execution_count": 34,
   "metadata": {
    "collapsed": false
   },
   "outputs": [
    {
     "name": "stdout",
     "output_type": "stream",
     "text": [
      "{u'nint': 10, u'nd3': 0, u'nf': 1, u'read_mode': u'RAPID', u'ypix': 64, u'ngroup': 2, u'nd1': 0, u'y0': 0, u'x0': 0, u'nd2': 0, u'wind_mode': 'WINDOW', u'xpix': 64}\n",
      "{u'opd': (u'OPD_RevV_nircam_132.fits', 0), u'oversample': 4, u'fov_pix': 31, u'offset_theta': 0, u'save': True, u'offset_r': 0}\n",
      "{u't_frame': 0.050160000000000003, u't_int': 0.10032000000000001, u't_exp': 1.0032000000000001, u't_acq': 1.5047999999999999, u't_group': 0.050160000000000003}\n"
     ]
    }
   ],
   "source": [
    "print(nrc.det_info)\n",
    "print(nrc.psf_info)\n",
    "print(nrc.multiaccum_times)"
   ]
  },
  {
   "cell_type": "code",
   "execution_count": 35,
   "metadata": {
    "collapsed": false
   },
   "outputs": [
    {
     "name": "stdout",
     "output_type": "stream",
     "text": [
      "2.64611312893 2.0305201715\n",
      "Point Source Sensitivity (10-sigma): 11.75 vegamag\n",
      "Surface Brightness Sensitivity (10-sigma): 12.61 vegamag/arcsec^2\n"
     ]
    },
    {
     "data": {
      "text/plain": [
       "({u'Spectrum': u'Flat spectrum in photlam',\n",
       "  u'nsig': 10,\n",
       "  u'sensitivity': 11.749065072963475,\n",
       "  u'units': 'vegamag'},\n",
       " {u'Spectrum': u'Flat spectrum in photlam',\n",
       "  u'nsig': 10,\n",
       "  u'sensitivity': 12.607614457770815,\n",
       "  u'units': u'vegamag/arcsec^2'})"
      ]
     },
     "execution_count": 35,
     "metadata": {},
     "output_type": "execute_result"
    }
   ],
   "source": [
    "out = nrc.sensitivity(verbose=True, units='vegamag')"
   ]
  },
  {
   "cell_type": "code",
   "execution_count": 36,
   "metadata": {
    "collapsed": false
   },
   "outputs": [
    {
     "name": "stdout",
     "output_type": "stream",
     "text": [
      "F335M Saturation Limit assuming G2V source: 4.45\n"
     ]
    },
    {
     "data": {
      "text/plain": [
       "{u'Spectrum': u'G2V',\n",
       " u'bp_lim': 'F335M',\n",
       " u'satmag': 4.448988968931777,\n",
       " u'units': u'vegamag'}"
      ]
     },
     "execution_count": 36,
     "metadata": {},
     "output_type": "execute_result"
    }
   ],
   "source": [
    "out = nrc.sat_limits(verbose=True)"
   ]
  },
  {
   "cell_type": "code",
   "execution_count": 15,
   "metadata": {
    "collapsed": false
   },
   "outputs": [
    {
     "name": "stdout",
     "output_type": "stream",
     "text": [
      "[     pynrc:INFO] Initializing SCA 485/A5\n",
      "[     pynrc:INFO] RAPID readout mode selected.\n",
      "[     pynrc:INFO] Setting nf=1, nd1=0, nd2=0, nd3=0.\n",
      "K-Band Saturation Limit for F335M assuming A0V source: -0.12\n"
     ]
    }
   ],
   "source": [
    "nrc.update_detectors(wind_mode='WINDOW', xpix=320, ypix=320, read_mode='RAPID', ngroup=2, nint=1)\n",
    "bp_k = S.ObsBandpass('johnson,k'); bp_k.name = 'K-Band'\n",
    "satlim = nrc.sat_limits(pynrc.stellar_spectrum('A0V'), bp_k, verbose=True)"
   ]
  },
  {
   "cell_type": "code",
   "execution_count": 4,
   "metadata": {
    "collapsed": false
   },
   "outputs": [],
   "source": [
    "sp = nrc_utils.stellar_spectrum('G2V', 16, 'vegamag', nrc.bandpass)"
   ]
  },
  {
   "cell_type": "code",
   "execution_count": 5,
   "metadata": {
    "collapsed": false,
    "scrolled": false
   },
   "outputs": [
    {
     "name": "stdout",
     "output_type": "stream",
     "text": [
      "F322W2 SNR for G2V source:\n",
      "Wave    SNR     Flux (uJy)\n",
      "2.40     0.36  214.98\n",
      "2.50    11.59  197.83\n",
      "2.60    12.94  189.99\n",
      "2.70    13.57  178.50\n",
      "2.80    13.90  167.69\n",
      "2.90    13.51  158.06\n",
      "3.00    12.13  147.59\n",
      "3.10    11.45  140.87\n",
      "3.20    12.26  133.22\n",
      "3.30    12.49  124.32\n",
      "3.40    12.22  119.61\n",
      "3.50    11.63  112.57\n",
      "3.60    11.40  107.56\n",
      "3.70    10.85  102.33\n",
      "3.80    10.23   98.13\n",
      "3.90     9.37   93.64\n",
      "4.00     6.67   89.26\n"
     ]
    }
   ],
   "source": [
    "d = nrc.sensitivity(verbose=True, nsig=5, sp=sp, forwardSNR=True)\n",
    "#s2['sensitivity'] / s1['sensitivity']"
   ]
  },
  {
   "cell_type": "code",
   "execution_count": 9,
   "metadata": {
    "collapsed": false,
    "scrolled": false
   },
   "outputs": [
    {
     "name": "stdout",
     "output_type": "stream",
     "text": [
      "{u't_frame': 10.73677, u't_int': 96.63093, u't_exp': 96.63093, u't_acq': 107.3677, u't_group': 10.73677}\n",
      "[     pynrc:DEBUG] fov_pix=31, oversample=4\n",
      "[     pynrc:DEBUG] Took 1.58 seconds to generate images\n",
      "F322W2 Background Sensitivity (5-sigma) for Flat spectrum in photlam source:\n",
      "Wave   Limit (uJy)\n",
      "2.40   3643.36\n",
      "2.50     89.21\n",
      "2.60     74.73\n",
      "2.70     66.61\n",
      "2.80     60.88\n",
      "2.90     59.27\n",
      "3.00     62.69\n",
      "3.10     64.07\n",
      "3.20     55.98\n",
      "3.30     51.18\n",
      "3.40     50.47\n",
      "3.50     50.37\n",
      "3.60     49.08\n",
      "3.70     49.52\n",
      "3.80     50.74\n",
      "3.90     53.45\n",
      "4.00     74.06\n",
      "CPU times: user 3 s, sys: 1.58 s, total: 4.58 s\n",
      "Wall time: 2.04 s\n"
     ]
    }
   ],
   "source": [
    "# Initiate NIRCam observation\n",
    "pynrc.setup_logging('WARN', verbose=False)\n",
    "nrc = pynrc.NIRCam('F322W2', pupil='GRISM0', ngroup=9, nf=1, nd2=0, nint=1, read_mode='RAPID')\n",
    "print(nrc.multiaccum_times)\n",
    "pynrc.setup_logging('DEBUG', verbose=False)\n",
    "%time bglim = nrc.sensitivity(verbose=True, zfact=5, nsig=5)"
   ]
  },
  {
   "cell_type": "code",
   "execution_count": 13,
   "metadata": {
    "collapsed": false
   },
   "outputs": [
    {
     "data": {
      "text/plain": [
       "<matplotlib.axes._subplots.AxesSubplot at 0x1204ae0d0>"
      ]
     },
     "execution_count": 13,
     "metadata": {},
     "output_type": "execute_result"
    },
    {
     "data": {
      "image/png": "[encoded data removed]",
      "text/plain": [
       "<matplotlib.figure.Figure at 0x1204e14d0>"
      ]
     },
     "metadata": {},
     "output_type": "display_data"
    }
   ],
   "source": [
    "nrc.plot_bandpass()"
   ]
  },
  {
   "cell_type": "code",
   "execution_count": 8,
   "metadata": {
    "collapsed": false
   },
   "outputs": [],
   "source": [
    "bp = nrc.bandpass\n",
    "dw = bp.wave[1]-bp.wave[0]\n",
    "warr = np.concatenate(([bp.wave.min()-dw],bp.wave,[bp.wave.max()+dw]))\n",
    "tarr = np.concatenate(([0],bp.throughput,[0]))\n",
    "bp2 = S.ArrayBandpass(warr, tarr, name=bp.name)"
   ]
  },
  {
   "cell_type": "code",
   "execution_count": 9,
   "metadata": {
    "collapsed": false
   },
   "outputs": [
    {
     "name": "stdout",
     "output_type": "stream",
     "text": [
      "0.0121049961879 0.0121049961879\n"
     ]
    }
   ],
   "source": [
    "sp1 = pynrc.stellar_spectrum('G2V', 10, 'vegamag', bp)\n",
    "sp2 = pynrc.stellar_spectrum('G2V', 10, 'vegamag', bp2)\n",
    "print(sp1(5000), sp2(5000))"
   ]
  },
  {
   "cell_type": "code",
   "execution_count": 6,
   "metadata": {
    "collapsed": false,
    "scrolled": false
   },
   "outputs": [
    {
     "name": "stdout",
     "output_type": "stream",
     "text": [
      "[     pynrc:DEBUG] Took 0.02 seconds to generate images\n",
      "[     pynrc:DEBUG] Total Source Count Rate for F430M = 10.0 mags: 186078 e-/sec\n",
      "[     pynrc:DEBUG] Magnitude in F430M band: 10.00\n",
      "[     pynrc:DEBUG] Approximate Time to 0.80 of Saturation: 2.77 sec\n",
      "F430M Saturation Limit assuming G2V source: 13.86\n"
     ]
    }
   ],
   "source": [
    "satlims = nrc.sat_limits(verbose=True)"
   ]
  },
  {
   "cell_type": "code",
   "execution_count": 6,
   "metadata": {
    "collapsed": false,
    "scrolled": false
   },
   "outputs": [
    {
     "name": "stdout",
     "output_type": "stream",
     "text": [
      "[     pynrc:DEBUG] zfact:1.2\n",
      "[     pynrc:DEBUG] fov_pix=11, oversample=4\n",
      "220290.885691\n",
      "[     pynrc:DEBUG] Mag Limits [5.00,34.00]; 10-sig: 24.52\n",
      "[     pynrc:DEBUG] Mag Limits [23.52,25.47]; 10-sig: 24.41\n",
      "Sensitivity (10-sigma): 323.73 nJy\n"
     ]
    }
   ],
   "source": [
    "bglim = nrc.sensitivity(verbose=True, zfact=1.2)"
   ]
  },
  {
   "cell_type": "code",
   "execution_count": 19,
   "metadata": {
    "collapsed": false,
    "scrolled": true
   },
   "outputs": [
    {
     "data": {
      "text/plain": [
       "{u'fov_pix': 33, u'oversample': 4}"
      ]
     },
     "execution_count": 19,
     "metadata": {},
     "output_type": "execute_result"
    }
   ],
   "source": [
    "nrc._psf_info"
   ]
  },
  {
   "cell_type": "code",
   "execution_count": 17,
   "metadata": {
    "collapsed": false
   },
   "outputs": [
    {
     "name": "stdout",
     "output_type": "stream",
     "text": [
      "Sensitivity (10-sigma): 56.39 nJy\n"
     ]
    }
   ],
   "source": [
    "test = pynrc.nrc_utils.bg_sensitivity(bp, ngroup=5, nint=10, nd2=12, nf=8, quiet=False, units='nJy', \n",
    "                                      rn=10, p_excess=(1.5,10), nsig=10, zfact=5, idark=0.03,\n",
    "                                      coeff=coeff, fov_pix=fov, oversample=os, simple=True)"
   ]
  },
  {
   "cell_type": "code",
   "execution_count": 6,
   "metadata": {
    "collapsed": false
   },
   "outputs": [
    {
     "name": "stdout",
     "output_type": "stream",
     "text": [
      "[     pynrc:DEBUG] Reading file: F322W2_nircam_plus_ote_throughput_moda_sorted.txt\n",
      "[     pynrc:DEBUG] zfact:3.0\n",
      "[     pynrc:DEBUG] fov_pix=11, oversample=4\n",
      "[     pynrc:DEBUG] nprocessors: 17; npsf: 51\n",
      "[     pynrc:DEBUG] Took 2.46 seconds to generate coefficients\n",
      "F322W2 Background Sensitivity assuming Flat spectrum in photlam source:\n",
      "Wave\tLimit (uJy)\n",
      "2.40\t18.08\n",
      "2.50\t0.42 \n",
      "2.60\t0.35 \n",
      "2.70\t0.31 \n",
      "2.80\t0.29 \n",
      "2.90\t0.28 \n",
      "3.00\t0.29 \n",
      "3.10\t0.30 \n",
      "3.20\t0.26 \n",
      "3.30\t0.24 \n",
      "3.40\t0.24 \n",
      "3.50\t0.24 \n",
      "3.60\t0.23 \n",
      "3.70\t0.23 \n",
      "3.80\t0.24 \n",
      "3.90\t0.25 \n",
      "4.00\t0.35 \n"
     ]
    }
   ],
   "source": [
    "test = pynrc.nrc_utils.bg_sensitivity('F322W2', 'GRISM0', ngroup=93, quiet=False, \n",
    "                                      rn=10, zfact=3, p_excess=(1.5,10), nsig=5)"
   ]
  },
  {
   "cell_type": "code",
   "execution_count": 7,
   "metadata": {
    "collapsed": false,
    "scrolled": false
   },
   "outputs": [
    {
     "name": "stdout",
     "output_type": "stream",
     "text": [
      "[     pynrc:DEBUG] Reading file: F444W_nircam_plus_ote_throughput_moda_sorted.txt\n",
      "[     pynrc:INFO] Initializing SCA 485/A5\n",
      "[     pynrc:INFO] RAPID readout mode selected.\n",
      "[     pynrc:INFO] Setting nf=1, nd1=0, nd2=0, nd3=0.\n",
      "[     pynrc:DEBUG] Updating PSF with oversample=4 and fov_pix=31\n",
      "[     pynrc:DEBUG] nprocessors: 15; npsf: 29\n",
      "[     pynrc:DEBUG] Took 1.83 seconds to generate coefficients\n",
      "[     pynrc:DEBUG] Took 3.09 seconds to generate images\n",
      "[     pynrc:DEBUG] Total Source Count Rate for K-Band = 10.0 mags: 653713 e-/sec\n",
      "[     pynrc:DEBUG] Magnitude in F444W band: 9.77\n",
      "[     pynrc:DEBUG] Approximate Time to 0.80 of Saturation: 192.8 sec\n",
      "K-Band Saturation Limit for F444W assuming M2V source:\n",
      "Wave\tSat Lim (vegamag)\n",
      "3.90\t3.64\n",
      "4.00\t3.62\n",
      "4.10\t3.50\n",
      "4.20\t3.39\n",
      "4.30\t3.25\n",
      "4.40\t3.08\n",
      "4.50\t2.86\n",
      "4.60\t2.71\n",
      "4.70\t2.58\n",
      "4.80\t2.43\n",
      "4.90\t2.22\n",
      "5.00\t1.51\n",
      "CPU times: user 2.01 s, sys: 1.4 s, total: 3.42 s\n",
      "Wall time: 3.43 s\n"
     ]
    }
   ],
   "source": [
    "# Initiate NIRCam observation\n",
    "pynrc.setup_logging('DEBUG', verbose=False)\n",
    "nrc = pynrc.NIRCam('F444W', pupil='GRISM0', ngroup='2', ypix=64, wind_mode='STRIPE')\n",
    "# Define stellar spectral type (pysynphot wrapper)\n",
    "sp_A0V = pynrc.stellar_spectrum('A0V') \n",
    "# Pynsynphot K-Band bandpass\n",
    "bp_k = S.ObsBandpass('johnson,k'); bp_k.name = 'K-Band'\n",
    "%time maglim = nrc.sat_limits(pynrc.stellar_spectrum('M2V'), bp_k, verbose=True)"
   ]
  },
  {
   "cell_type": "code",
   "execution_count": 14,
   "metadata": {
    "collapsed": false
   },
   "outputs": [
    {
     "name": "stdout",
     "output_type": "stream",
     "text": [
      "[     pynrc:DEBUG] Took 2.97 seconds to generate image\n",
      "[     pynrc:DEBUG] Total Source Count Rate for K-Band = 0.0 mags: 0 e-/sec\n",
      "[     pynrc:DEBUG] Magnitude in F444W band: 2.50\n",
      "[     pynrc:DEBUG] Approximate Time to 0.80 of Saturation: 1274640152.1 sec\n",
      "K-Band Saturation Limit for F444W assuming M2V source:\n",
      "Wave\tSat Lim (vegamag)\n",
      "3.90\t3.64\n",
      "4.00\t3.63\n",
      "4.10\t3.51\n",
      "4.20\t3.39\n",
      "4.30\t3.26\n",
      "4.40\t3.09\n",
      "4.50\t2.87\n",
      "4.60\t2.72\n",
      "4.70\t2.58\n",
      "4.80\t2.43\n",
      "4.90\t2.23\n",
      "5.00\t1.51\n",
      "CPU times: user 1.75 s, sys: 1.34 s, total: 3.09 s\n",
      "Wall time: 3.09 s\n"
     ]
    }
   ],
   "source": [
    "sp_M2V = pynrc.stellar_spectrum('M2V') \n",
    "%time maglim = nrc.sat_limits(sp_M2V, bp_k, verbose=True)"
   ]
  },
  {
   "cell_type": "code",
   "execution_count": 16,
   "metadata": {
    "collapsed": false,
    "scrolled": true
   },
   "outputs": [
    {
     "name": "stdout",
     "output_type": "stream",
     "text": [
      "[     pynrc:DEBUG] Reading file: F430M_nircam_plus_ote_throughput_moda_sorted.txt\n",
      "[     pynrc:DEBUG] Updating PSF\n",
      "[     pynrc:DEBUG] nprocessors: 8; npsf: 8\n",
      "[     pynrc:DEBUG] Took 0.71 seconds to generate coefficients\n",
      "[     pynrc:DEBUG] Took 0.61 seconds to generate image\n",
      "[     pynrc:DEBUG] Total Source Count Rate for K-Band = 0.0 mags: 0 e-/sec\n",
      "[     pynrc:DEBUG] Magnitude in F430M band: 3.41\n",
      "[     pynrc:DEBUG] Approximate Time to 0.80 of Saturation: 2209205991.1 sec\n",
      "K-Band Saturation Limit for F430M assuming A0V source:\n",
      "Wave\tSat Lim (vegamag)\n",
      "4.20\t3.28\n",
      "4.30\t3.15\n",
      "4.40\t2.89\n",
      "CPU times: user 3.71 s, sys: 311 ms, total: 4.02 s\n",
      "Wall time: 651 ms\n"
     ]
    }
   ],
   "source": [
    "nrc.filter='F430M'\n",
    "nrc.pupil='GRISM0'\n",
    "%time maglim = nrc.sat_limits(sp_A0V, bp_k, verbose=True)"
   ]
  },
  {
   "cell_type": "code",
   "execution_count": 8,
   "metadata": {
    "collapsed": false
   },
   "outputs": [
    {
     "name": "stdout",
     "output_type": "stream",
     "text": [
      "K-Band Saturation Limit for F322W2 assuming A0V source:\n",
      "Wave\tSat Lim (abmag)\n",
      "2.40\t5.28\n",
      "2.50\t6.87\n",
      "2.60\t6.97\n",
      "2.70\t7.03\n",
      "2.80\t7.03\n",
      "2.90\t6.96\n",
      "3.00\t6.85\n",
      "3.10\t6.72\n",
      "3.20\t6.78\n",
      "3.30\t6.77\n",
      "3.40\t6.73\n",
      "3.50\t6.64\n",
      "3.60\t6.60\n",
      "3.70\t6.52\n",
      "3.80\t6.43\n",
      "3.90\t6.31\n",
      "4.00\t6.14\n"
     ]
    }
   ],
   "source": [
    "maglim = nrc.sat_limits(sp_A0V, bp_k, verbose=True)"
   ]
  },
  {
   "cell_type": "code",
   "execution_count": 17,
   "metadata": {
    "collapsed": false
   },
   "outputs": [
    {
     "name": "stdout",
     "output_type": "stream",
     "text": [
      "K-Band Limiting Magnitude for F322W2 assuming M2V source:\n",
      "Wave\tMag Lim\n",
      "2.40\t2.79\n",
      "2.50\t4.26\n",
      "2.60\t4.50\n",
      "2.70\t4.42\n",
      "2.80\t4.49\n",
      "2.90\t4.38\n",
      "3.00\t4.31\n",
      "3.10\t4.19\n",
      "3.20\t4.33\n",
      "3.30\t4.35\n",
      "3.40\t4.29\n",
      "3.50\t4.26\n",
      "3.60\t4.21\n",
      "3.70\t4.16\n",
      "3.80\t4.09\n",
      "3.90\t3.98\n",
      "4.00\t3.81\n"
     ]
    }
   ],
   "source": [
    "maglim = nrc.sat_limits(sp_M2V, bp_k, verbose=True)"
   ]
  },
  {
   "cell_type": "code",
   "execution_count": null,
   "metadata": {
    "collapsed": true
   },
   "outputs": [],
   "source": []
  }
 ],
 "metadata": {
  "anaconda-cloud": {},
  "kernelspec": {
   "display_name": "Python [default]",
   "language": "python",
   "name": "python2"
  },
  "language_info": {
   "codemirror_mode": {
    "name": "ipython",
    "version": 2
   },
   "file_extension": ".py",
   "mimetype": "text/x-python",
   "name": "python",
   "nbconvert_exporter": "python",
   "pygments_lexer": "ipython2",
   "version": "2.7.12"
  }
 },
 "nbformat": 4,
 "nbformat_minor": 0
}
