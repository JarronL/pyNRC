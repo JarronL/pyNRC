{
 "cells": [
  {
   "cell_type": "code",
   "execution_count": 1,
   "metadata": {
    "collapsed": true
   },
   "outputs": [],
   "source": [
    "# Makes print and division act like Python 3\n",
    "from __future__ import print_function, division\n",
    "\n",
    "# Import the usual libraries\n",
    "import numpy as np\n",
    "import matplotlib\n",
    "import matplotlib.pyplot as plt\n",
    "\n",
    "# Enable inline plotting at lower left\n",
    "%matplotlib inline\n",
    "matplotlib.rcParams['image.origin'] = 'lower'\n",
    "matplotlib.rcParams['image.interpolation'] = 'none'\n",
    "\n",
    "# seaborn package for making pretty plots, but not necessary\n",
    "try:\n",
    "    import seaborn as sns\n",
    "    params =   {'xtick.direction': 'in', 'ytick.direction': 'in', 'font.family': ['serif'],\n",
    "                'text.usetex': True, 'text.latex.preamble': ['\\usepackage{gensymb}']}\n",
    "    sns.set_style(\"ticks\", params)\n",
    "except ImportError:\n",
    "    print('Seaborn module is not installed.')\n",
    "    \n",
    "from IPython.display import display, Latex, clear_output"
   ]
  },
  {
   "cell_type": "code",
   "execution_count": 12,
   "metadata": {
    "collapsed": true
   },
   "outputs": [],
   "source": [
    "import pynrc\n",
    "from pynrc import nrc_utils\n",
    "from pynrc.nrc_utils import (webbpsf, poppy, pix_noise, S)\n",
    "\n",
    "pynrc.setup_logging('WARNING', verbose=False)"
   ]
  },
  {
   "cell_type": "code",
   "execution_count": 14,
   "metadata": {
    "collapsed": true
   },
   "outputs": [],
   "source": [
    "filt_wide_sw = ['F070W', 'F090W', 'F115W', 'F150W', 'F150W2', 'F200W']\n",
    "filt_wide_lw = ['F277W', 'F322W2', 'F356W', 'F444W']\n",
    "\n",
    "filt_med_sw = ['F140M', 'F182M', 'F210M']\n",
    "filt_med_lw = ['F250M', 'F300M', 'F335M', 'F360M', 'F410M', 'F430M', 'F460M', 'F480M']\n",
    "\n",
    "filt_narr_sw = ['F187N', 'F212N']\n",
    "filt_narr_lw = ['F323N', 'F405N', 'F466N', 'F470N']\n",
    "\n",
    "filt_all_sw = filt_wide_sw + filt_med_sw\n",
    "filt_all_lw = filt_wide_lw + filt_med_lw\n",
    "filt_all = filt_all_sw + filt_all_lw"
   ]
  },
  {
   "cell_type": "code",
   "execution_count": 15,
   "metadata": {
    "collapsed": true
   },
   "outputs": [],
   "source": [
    "bp_k = S.ObsBandpass('johnson,k'); bp_k.name = 'K-Band'"
   ]
  },
  {
   "cell_type": "code",
   "execution_count": 28,
   "metadata": {
    "collapsed": true
   },
   "outputs": [],
   "source": [
    "sp_G2V = nrc_utils.stellar_spectrum('G2V')\n",
    "sp_A0V = nrc_utils.stellar_spectrum('A0V')\n",
    "sp_M5V = nrc_utils.stellar_spectrum('M5V')\n",
    "sptypes = [sp_M5V, sp_G2V, sp_A0V]"
   ]
  },
  {
   "cell_type": "markdown",
   "metadata": {},
   "source": [
    "## MASK210R Saturation Limits"
   ]
  },
  {
   "cell_type": "code",
   "execution_count": 31,
   "metadata": {
    "collapsed": false
   },
   "outputs": [
    {
     "name": "stdout",
     "output_type": "stream",
     "text": [
      "F140M 1.97840494129 2.47044859637 2.66681474876\n",
      "F182M 2.98299624453 2.93437760439 2.95083217185\n",
      "F210M 2.63225268017 2.56839127224 2.57502876784\n",
      "F070W 0.155779232988 2.64923641901 3.64887333109\n",
      "F090W 2.07736624966 3.40786239486 4.0548129359\n",
      "F115W 2.80178020459 3.73885022173 4.21516701237\n",
      "F150W 3.25388679259 3.56320744369 3.65436552329\n",
      "F150W2 3.93090235079 4.23323321488 4.49912015758\n",
      "F200W 3.50626454493 3.44848860414 3.45750588194\n"
     ]
    }
   ],
   "source": [
    "nrc = pynrc.NIRCam('F210M', mask='MASK210R', pupil='CIRCLYOT', oversample=2,\n",
    "                   wind_mode='WINDOW', xpix=640, ypix=640, read_mode='RAPID', ngroup=2)\n",
    "\n",
    "filt_all = filt_med_sw + filt_wide_sw\n",
    "\n",
    "for filt in filt_all:\n",
    "    nrc.filter = filt\n",
    "    sat_lims = []\n",
    "    for sp in sptypes:\n",
    "        d = nrc.sat_limits(sp, bp_k, verbose=False)\n",
    "        sat_lims.append(d['satmag'])\n",
    "    print(filt, sat_lims[0], sat_lims[1], sat_lims[2])"
   ]
  },
  {
   "cell_type": "markdown",
   "metadata": {},
   "source": [
    "## MASK430R Saturation Limits"
   ]
  },
  {
   "cell_type": "code",
   "execution_count": 32,
   "metadata": {
    "collapsed": false
   },
   "outputs": [
    {
     "name": "stdout",
     "output_type": "stream",
     "text": [
      "F250M -0.323454736386 -0.0497677550274 -0.0650448079906\n",
      "F300M -0.236323265628 -0.335346422685 -0.37422822092\n",
      "F335M -0.411781588811 -0.575556389069 -0.619998202254\n",
      "F360M -0.544282149955 -0.716120383157 -0.768105828731\n",
      "F410M -0.927526808795 -1.11943576147 -1.18060539931\n",
      "F430M -2.09820690588 -2.21905484359 -2.26941022737\n",
      "F460M -2.86726195834 -2.78250014701 -2.83795321466\n",
      "F480M -3.00218387674 -2.95041650365 -3.00536871846\n",
      "F277W 0.799796966399 0.900224301906 0.868611483539\n",
      "F322W2 0.947009393013 0.951266687455 0.91775933079\n",
      "F356W 0.261154945725 0.0916020537545 0.0420565737757\n",
      "F444W -0.702395677235 -0.84077621433 -0.89850609337\n"
     ]
    }
   ],
   "source": [
    "nrc = pynrc.NIRCam('F250M', mask='MASK430R', pupil='CIRCLYOT', oversample=2,\n",
    "                   wind_mode='WINDOW', xpix=320, ypix=320, read_mode='RAPID', ngroup=2)\n",
    "\n",
    "filt_all = filt_med_lw + filt_wide_lw\n",
    "\n",
    "for filt in filt_all:\n",
    "    nrc.filter = filt\n",
    "    sat_lims = []\n",
    "    for sp in sptypes:\n",
    "        d = nrc.sat_limits(sp, bp_k, verbose=False)\n",
    "        sat_lims.append(d['satmag'])\n",
    "    print(filt, sat_lims[0], sat_lims[1], sat_lims[2])"
   ]
  },
  {
   "cell_type": "markdown",
   "metadata": {},
   "source": [
    "## MASK335R (LW) Saturation Limits"
   ]
  },
  {
   "cell_type": "code",
   "execution_count": 33,
   "metadata": {
    "collapsed": false
   },
   "outputs": [
    {
     "name": "stdout",
     "output_type": "stream",
     "text": [
      "F250M 0.300755022127 0.574822008195 0.559670836753\n",
      "F300M 0.322211909491 0.221272187172 0.182394870647\n",
      "F335M 0.0885414690153 -0.0743430592212 -0.118749370659\n",
      "F360M -0.0924320570773 -0.264222639841 -0.316065288151\n",
      "F410M -0.28420294038 -0.475234172343 -0.536239303195\n",
      "F430M -1.28830698328 -1.41287634963 -1.46367789933\n",
      "F460M -1.68494586908 -1.60036599921 -1.65623116083\n",
      "F480M -1.63424939229 -1.58812508707 -1.64206831484\n",
      "F277W 1.42350844229 1.52633071004 1.49485262758\n",
      "F322W2 1.49839496164 1.56515751024 1.53198429334\n",
      "F356W 0.731362844852 0.562122227199 0.512774621522\n",
      "F444W 0.259186327881 0.194263964139 0.140159811474\n"
     ]
    }
   ],
   "source": [
    "nrc = pynrc.NIRCam('F250M', mask='MASK335R', pupil='CIRCLYOT', oversample=2,\n",
    "                   wind_mode='WINDOW', xpix=320, ypix=320, read_mode='RAPID', ngroup=2)\n",
    "\n",
    "filt_all = filt_med_lw + filt_wide_lw\n",
    "\n",
    "for filt in filt_all:\n",
    "    nrc.filter = filt\n",
    "    sat_lims = []\n",
    "    for sp in sptypes:\n",
    "        d = nrc.sat_limits(sp, bp_k, verbose=False)\n",
    "        sat_lims.append(d['satmag'])\n",
    "    print(filt, sat_lims[0], sat_lims[1], sat_lims[2])"
   ]
  },
  {
   "cell_type": "markdown",
   "metadata": {},
   "source": [
    "## MASK335R (SW) Saturation Limits"
   ]
  },
  {
   "cell_type": "code",
   "execution_count": 34,
   "metadata": {
    "collapsed": false
   },
   "outputs": [
    {
     "name": "stdout",
     "output_type": "stream",
     "text": [
      "F140M 0.629561074171 1.11955397461 1.31446959907\n",
      "F182M 1.91886574187 1.86858909584 1.88427842503\n",
      "F210M 1.65665975297 1.59266722882 1.59627246594\n",
      "F070W -1.4971002959 0.837282825533 1.83566658833\n",
      "F090W 0.445685531405 1.80802303247 2.45742634078\n",
      "F115W 1.2745676303 2.20813101875 2.68252090598\n",
      "F150W 1.96330626612 2.26704419892 2.35493776882\n",
      "F150W2 2.7516286897 2.95550264298 3.19017891204\n",
      "F200W 2.3844981502 2.32650999039 2.33627427629\n"
     ]
    }
   ],
   "source": [
    "nrc = pynrc.NIRCam('F210M', mask='MASK335R', pupil='CIRCLYOT', oversample=2,\n",
    "                   wind_mode='WINDOW', xpix=640, ypix=640, read_mode='RAPID', ngroup=2)\n",
    "\n",
    "filt_all = filt_med_sw + filt_wide_sw\n",
    "\n",
    "for filt in filt_all:\n",
    "    nrc.filter = filt\n",
    "    sat_lims = []\n",
    "    for sp in sptypes:\n",
    "        d = nrc.sat_limits(sp, bp_k, verbose=False)\n",
    "        sat_lims.append(d['satmag'])\n",
    "    print(filt, sat_lims[0], sat_lims[1], sat_lims[2])"
   ]
  },
  {
   "cell_type": "code",
   "execution_count": null,
   "metadata": {
    "collapsed": true
   },
   "outputs": [],
   "source": []
  }
 ],
 "metadata": {
  "kernelspec": {
   "display_name": "Python [default]",
   "language": "python",
   "name": "python2"
  },
  "language_info": {
   "codemirror_mode": {
    "name": "ipython",
    "version": 2
   },
   "file_extension": ".py",
   "mimetype": "text/x-python",
   "name": "python",
   "nbconvert_exporter": "python",
   "pygments_lexer": "ipython2",
   "version": "2.7.12"
  }
 },
 "nbformat": 4,
 "nbformat_minor": 0
}
