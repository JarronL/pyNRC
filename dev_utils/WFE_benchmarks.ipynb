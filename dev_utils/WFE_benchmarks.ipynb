{
 "cells": [
  {
   "cell_type": "code",
   "execution_count": 1,
   "metadata": {},
   "outputs": [],
   "source": [
    "# Import the usual libraries\n",
    "import numpy as np\n",
    "import matplotlib\n",
    "import matplotlib.pyplot as plt\n",
    "#import matplotlib.patches as mpatches\n",
    "\n",
    "# Enable inline plotting\n",
    "%matplotlib inline\n",
    "\n",
    "#from IPython.display import display, Latex, clear_output"
   ]
  },
  {
   "cell_type": "code",
   "execution_count": 2,
   "metadata": {},
   "outputs": [
    {
     "name": "stdout",
     "output_type": "stream",
     "text": [
      "[     pynrc:INFO]   jwst_backgrounds is not installed and will not be used for bg estimates.\n"
     ]
    }
   ],
   "source": [
    "import pynrc\n",
    "from pynrc import nrc_utils\n",
    "from pynrc.nrc_utils import webbpsf, poppy"
   ]
  },
  {
   "cell_type": "code",
   "execution_count": 3,
   "metadata": {},
   "outputs": [],
   "source": [
    "from pynrc.nrc_utils import read_filter, gen_psf_coeff, gen_image_coeff, gen_webbpsf_psf\n",
    "from pynrc.nrc_utils import gen_webbpsf_siwfe, field_coeff_resid, field_coeff_func\n",
    "from pynrc.nrc_utils import Tel2Sci_info, NIRCam_V2V3_limits, radial_std\n",
    "from pynrc.nrc_utils import jl_poly_fit, jl_poly"
   ]
  },
  {
   "cell_type": "code",
   "execution_count": 4,
   "metadata": {},
   "outputs": [],
   "source": [
    "# Interpolation and extrapolation\n",
    "from scipy.interpolate import griddata, RegularGridInterpolator\n",
    "from scipy.ndimage import rotate"
   ]
  },
  {
   "cell_type": "code",
   "execution_count": 5,
   "metadata": {},
   "outputs": [],
   "source": [
    "# pySIAF stuff for plotting\n",
    "import pysiaf\n",
    "from pysiaf.siaf import Siaf\n",
    "from pysiaf.siaf import plot_main_apertures\n",
    "\n",
    "siaf = Siaf('NIRCam')\n",
    "siaf.generate_toc()"
   ]
  },
  {
   "cell_type": "code",
   "execution_count": 6,
   "metadata": {},
   "outputs": [],
   "source": [
    "from astropy.table import Table"
   ]
  },
  {
   "cell_type": "markdown",
   "metadata": {},
   "source": [
    "# Benchmarks"
   ]
  },
  {
   "cell_type": "code",
   "execution_count": 7,
   "metadata": {},
   "outputs": [],
   "source": [
    "\n",
    "def perform_benchmarks(filter='F430M', pupil=None, mask=None, module='A',\n",
    "                       fov_pix=33, oversample=4, include_si_wfe=True, \n",
    "                       use_legendre=True, force=False, save=True, \n",
    "                       do_webbpsf=True, do_webbpsf_only=False, return_nrc=False,\n",
    "                       use_mp=None, nproc=None, **kwargs):\n",
    "    \n",
    "    import datetime, time\n",
    "    \n",
    "    # PSF setup\n",
    "#     kwargs = {}\n",
    "    kwargs['pupil'] = 'CLEAR' if pupil is None else pupil\n",
    "    kwargs['mask'] = mask\n",
    "    kwargs['module'] = module\n",
    "\n",
    "    kwargs['fov_pix'] = fov_pix\n",
    "    kwargs['oversample'] = oversample\n",
    "\n",
    "    kwargs['opd'] = ('OPD_RevW_ote_for_NIRCam_requirements.fits.gz', 0)\n",
    "    kwargs['jitter'] = 'gaussian'\n",
    "    kwargs['jitter_sigma'] = 0.007\n",
    "\n",
    "    kwargs['include_si_wfe'] = include_si_wfe\n",
    "    kwargs['use_legendre'] = use_legendre\n",
    "\n",
    "    kwargs['force']     = force\n",
    "    kwargs['save']      = save\n",
    "    kwargs['save_name'] = None\n",
    "    \n",
    "    pynrc.setup_logging('WARN', verbose=False)\n",
    "    \n",
    "    tdict = {\n",
    "        'webbpsf_init': None,\n",
    "        'webbpsf_psf': None,\n",
    "        'pynrc_coeff': None,\n",
    "        'pynrc_drift': None,\n",
    "        'pynrc_field': None,\n",
    "        'pynrc_psf': None,\n",
    "    }\n",
    "    \n",
    "    # Multiprocessing cases\n",
    "    use_mp_def = poppy.conf.use_multiprocessing\n",
    "    nproc_def = poppy.conf.n_processes\n",
    "    if use_mp is not None:\n",
    "        poppy.conf.use_multiprocessing = use_mp\n",
    "    if nproc is not None:\n",
    "        poppy.conf.n_processes = nproc\n",
    "\n",
    "    ####\n",
    "    # WebbPSF timings\n",
    "    ####\n",
    "    if do_webbpsf or do_webbpsf_only:\n",
    "        # Initialization overheads\n",
    "        tarr = []\n",
    "        for i in range(5):\n",
    "            t0 = time.time()\n",
    "            inst = webbpsf.NIRCam()\n",
    "            inst.detector = 'NRCA5'\n",
    "            t1 = time.time()\n",
    "            tarr.append(t1-t0)\n",
    "        tdict['webbpsf_init'] = dt = np.mean(tarr)\n",
    "        time_string = 'Took {:.2f} seconds to init WebbPSF'.format(dt)\n",
    "        print(time_string)    \n",
    "\n",
    "        # PSF Geneation\n",
    "        bp = read_filter(filter, **kwargs)\n",
    "        tarr = []\n",
    "        for i in range(5):\n",
    "            t0 = time.time()\n",
    "            hdul = gen_webbpsf_psf(bp, wfe_drift=5, **kwargs)\n",
    "            t1 = time.time()\n",
    "            dt = t1-t0\n",
    "            tarr.append(dt)\n",
    "            if dt>10:\n",
    "                break\n",
    "        tdict['webbpsf_psf'] = dt = np.mean(tarr) - tdict['webbpsf_init'] \n",
    "        time_string = 'Took {:.2f} seconds to generate WebbPSF PSF'.format(dt)\n",
    "        print(time_string)    \n",
    "\n",
    "    if do_webbpsf_only and (not return_nrc):\n",
    "        return tdict\n",
    "    \n",
    "    ####\n",
    "    # pyNRC coefficients\n",
    "    ####\n",
    "    t0 = time.time()\n",
    "    nrc = pynrc.NIRCam(filter=filter, **kwargs)\n",
    "    t1 = time.time()\n",
    "    \n",
    "    if do_webbpsf_only and return_nrc:\n",
    "        return nrc\n",
    "\n",
    "    tdict['pynrc_coeff'] = dt = t1-t0\n",
    "    time_string = 'Took {:.2f} seconds to generate pyNRC coefficients'.format(dt)\n",
    "    print(time_string)\n",
    "\n",
    "    ####\n",
    "    # WFE drift coefficient generation\n",
    "    ####\n",
    "    t0 = time.time()\n",
    "    nrc.wfe_drift = True\n",
    "    t1 = time.time()\n",
    "    dt = t1-t0\n",
    "\n",
    "    tdict['pynrc_drift'] = dt = t1-t0\n",
    "    time_string = 'Took {:.2f} seconds to generate WFE Drift coefficients'.format(dt)\n",
    "    print(time_string)\n",
    "\n",
    "    ####\n",
    "    # Field coefficient generation\n",
    "    ####\n",
    "    t0 = time.time()\n",
    "    nrc.wfe_field = True\n",
    "    t1 = time.time()\n",
    "\n",
    "    tdict['pynrc_field'] = dt = t1-t0\n",
    "    time_string = 'Took {:.2f} seconds to generate WFE Field coefficients'.format(dt)\n",
    "    print(time_string)\n",
    "\n",
    "    # Add aperture manually to save time\n",
    "    # This doesn't really matter, just needs to be something plausible\n",
    "    apname = nrc.get_siaf_apname()\n",
    "    nrc._siaf_ap = nrc.siaf_nrc[apname]\n",
    "    \n",
    "    tarr = []\n",
    "    for i in range(10):\n",
    "        t0 = time.time()\n",
    "        psf0, psf0_over = nrc.gen_psf(wfe_drift=5, coord_vals=(1024,1024), coord_frame='sci', \n",
    "                                      return_oversample=True)\n",
    "        t1 = time.time()\n",
    "        dt = t1-t0\n",
    "        tarr.append(dt)\n",
    "        if dt>10:\n",
    "            break\n",
    "    tdict['pynrc_psf'] = dt = np.mean(tarr)\n",
    "    time_string = 'Took {:.2f} seconds to generate pynrc PSF'.format(dt)\n",
    "    print(time_string)\n",
    "    \n",
    "    # Return defaults\n",
    "    poppy.conf.use_multiprocessing = use_mp_def\n",
    "    poppy.conf.n_processes = nproc_def\n",
    "    \n",
    "    if return_nrc:\n",
    "        return nrc\n",
    "    else:\n",
    "        return tdict\n"
   ]
  },
  {
   "cell_type": "code",
   "execution_count": 16,
   "metadata": {},
   "outputs": [],
   "source": [
    "kwargs = {\n",
    "    'fov_pix': 257,\n",
    "    'oversample': 4,\n",
    "#     'pupil': 'CIRCLYOT',\n",
    "}"
   ]
  },
  {
   "cell_type": "code",
   "execution_count": 14,
   "metadata": {},
   "outputs": [
    {
     "name": "stdout",
     "output_type": "stream",
     "text": [
      "Took 2.65 seconds to init WebbPSF\n",
      "Took 3.18 seconds to generate WebbPSF PSF\n"
     ]
    }
   ],
   "source": [
    "tdict = perform_benchmarks(do_webbpsf_only=True, **kwargs)"
   ]
  },
  {
   "cell_type": "code",
   "execution_count": 15,
   "metadata": {
    "scrolled": false
   },
   "outputs": [
    {
     "name": "stdout",
     "output_type": "stream",
     "text": [
      "Took 4.46 seconds to generate pyNRC coefficients\n",
      "Took 7.65 seconds to generate WFE Drift coefficients\n"
     ]
    },
    {
     "name": "stderr",
     "output_type": "stream",
     "text": [
      "[     pynrc:WARNING] Generating field-dependent coefficients. This may take some time...\n"
     ]
    },
    {
     "name": "stdout",
     "output_type": "stream",
     "text": [
      "V2/V3 Coordinates and det pixel (sci) on NRCA5/NRCA5_FULL: (0.87, -8.78), (1561.1, 501.2)\n",
      "V2/V3 Coordinates and det pixel (sci) on NRCA5/NRCA5_FULL: (0.45, -8.39), (1957.9, 865.5)\n",
      "V2/V3 Coordinates and det pixel (sci) on NRCA5/NRCA5_FULL: (2.40, -8.08), (95.6, 1157.3)\n",
      "V2/V3 Coordinates and det pixel (sci) on NRCA5/NRCA5_FULL: (1.60, -9.22), (872.6, 83.1)\n",
      "V2/V3 Coordinates and det pixel (sci) on NRCA5/NRCA5_FULL: (1.28, -7.26), (1176.0, 1941.6)\n",
      "V2/V3 Coordinates and det pixel (sci) on NRCA5/NRCA5_FULL: (0.88, -7.68), (1558.1, 1541.3)\n",
      "V2/V3 Coordinates and det pixel (sci) on NRCA5/NRCA5_FULL: (2.00, -8.79), (488.4, 482.3)\n",
      "V2/V3 Coordinates and det pixel (sci) on NRCA5/NRCA5_FULL: (1.99, -7.68), (494.2, 1542.1)\n",
      "V2/V3 Coordinates and det pixel (sci) on NRCA5/NRCA5_FULL: (1.16, -8.60), (1287.8, 664.0)\n",
      "V2/V3 Coordinates and det pixel (sci) on NRCA5/NRCA5_FULL: (0.44, -9.22), (1958.2, 82.1)\n",
      "V2/V3 Coordinates and det pixel (sci) on NRCA5/NRCA5_FULL: (2.43, -9.21), (89.3, 82.8)\n",
      "V2/V3 Coordinates and det pixel (sci) on NRCA5/NRCA5_FULL: (2.40, -7.26), (95.3, 1939.6)\n",
      "V2/V3 Coordinates and det pixel (sci) on NRCA5/NRCA5_FULL: (0.52, -7.32), (1902.4, 1881.4)\n",
      "V2/V3 Coordinates and det pixel (sci) on NRCA5/NRCA5_FULL: (0.33, -9.33), (2063.9, -14.9)\n",
      "V2/V3 Coordinates and det pixel (sci) on NRCA5/NRCA5_FULL: (2.54, -9.33), (-14.6, -28.5)\n",
      "V2/V3 Coordinates and det pixel (sci) on NRCA5/NRCA5_FULL: (0.33, -7.13), (2086.5, 2063.8)\n",
      "V2/V3 Coordinates and det pixel (sci) on NRCA5/NRCA5_FULL: (2.54, -7.13), (-42.8, 2065.9)\n"
     ]
    },
    {
     "name": "stderr",
     "output_type": "stream",
     "text": [
      "[     pynrc:WARNING] Interpolating coefficient residuals onto regular grid...\n",
      "[     pynrc:WARNING] Done.\n"
     ]
    },
    {
     "name": "stdout",
     "output_type": "stream",
     "text": [
      "Took 325.69 seconds to generate WFE Field coefficients\n",
      "Took 0.92 seconds to generate pynrc PSF\n"
     ]
    }
   ],
   "source": [
    "tdict = perform_benchmarks(do_webbpsf=False, **kwargs)"
   ]
  },
  {
   "cell_type": "code",
   "execution_count": 17,
   "metadata": {
    "scrolled": true
   },
   "outputs": [
    {
     "name": "stdout",
     "output_type": "stream",
     "text": [
      "Took 4.94 seconds to generate pyNRC coefficients\n",
      "Took 10.73 seconds to generate WFE Drift coefficients\n",
      "Took 13.87 seconds to generate WFE Field coefficients\n",
      "Took 1.06 seconds to generate pynrc PSF\n"
     ]
    }
   ],
   "source": [
    "tdict = perform_benchmarks(do_webbpsf=False, **kwargs)"
   ]
  },
  {
   "cell_type": "code",
   "execution_count": null,
   "metadata": {},
   "outputs": [],
   "source": []
  },
  {
   "cell_type": "code",
   "execution_count": 24,
   "metadata": {},
   "outputs": [
    {
     "name": "stdout",
     "output_type": "stream",
     "text": [
      "Took 23.42 seconds to generate WebbPSF PSF\n",
      "Took 2.73 seconds to generate pyNRC coefficients\n",
      "Took 4.38 seconds to generate WFE Drift coefficients\n",
      "Took 6.57 seconds to generate WFE Field coefficients\n",
      "Took 0.06 seconds to generate pynrc PSF\n"
     ]
    }
   ],
   "source": [
    "tdict = perform_benchmarks(fov_pix=33, force=False, do_webbpsf=True, nproc=1)"
   ]
  },
  {
   "cell_type": "code",
   "execution_count": 23,
   "metadata": {},
   "outputs": [
    {
     "name": "stdout",
     "output_type": "stream",
     "text": [
      "Took 17.85 seconds to generate WebbPSF PSF\n",
      "Took 2.85 seconds to generate pyNRC coefficients\n",
      "Took 4.63 seconds to generate WFE Drift coefficients\n",
      "Took 7.94 seconds to generate WFE Field coefficients\n",
      "Took 0.11 seconds to generate pynrc PSF\n"
     ]
    },
    {
     "data": {
      "text/plain": [
       "{'webbpsf': 17.852298974990845,\n",
       " 'pynrc_coeff': 2.846261739730835,\n",
       " 'pynrc_drift': 4.6318581104278564,\n",
       " 'pynrc_field': 7.942458152770996,\n",
       " 'pynrc_psf': 0.10760819911956787}"
      ]
     },
     "execution_count": 23,
     "metadata": {},
     "output_type": "execute_result"
    }
   ],
   "source": [
    "tdict = perform_benchmarks(fov_pix=33, force=False, do_webbpsf=True)"
   ]
  },
  {
   "cell_type": "code",
   "execution_count": 14,
   "metadata": {},
   "outputs": [
    {
     "data": {
      "text/plain": [
       "'NRCA5_FULL'"
      ]
     },
     "execution_count": 14,
     "metadata": {},
     "output_type": "execute_result"
    }
   ],
   "source": [
    "res.siaf_ap"
   ]
  },
  {
   "cell_type": "code",
   "execution_count": 14,
   "metadata": {},
   "outputs": [
    {
     "name": "stdout",
     "output_type": "stream",
     "text": [
      "CPU times: user 3.1 s, sys: 1.63 s, total: 4.73 s\n",
      "Wall time: 15 s\n"
     ]
    }
   ],
   "source": [
    "nrc = webbpsf.NIRCam()\n",
    "%time psf = nrc.calc_psf(fov_pixels=33, oversample=4) "
   ]
  },
  {
   "cell_type": "code",
   "execution_count": 15,
   "metadata": {},
   "outputs": [
    {
     "data": {
      "text/plain": [
       "3"
      ]
     },
     "execution_count": 15,
     "metadata": {},
     "output_type": "execute_result"
    }
   ],
   "source": [
    "webbpsf.webbpsf_core.poppy.conf.n_processes"
   ]
  },
  {
   "cell_type": "code",
   "execution_count": 17,
   "metadata": {},
   "outputs": [
    {
     "data": {
      "text/plain": [
       "<function pynrc.nrc_utils.nproc_use(fov_pix, oversample, nwavelengths, coron=False)>"
      ]
     },
     "execution_count": 17,
     "metadata": {},
     "output_type": "execute_result"
    }
   ],
   "source": [
    "pynrc.nrc_utils."
   ]
  },
  {
   "cell_type": "code",
   "execution_count": 16,
   "metadata": {},
   "outputs": [
    {
     "data": {
      "text/plain": [
       "True"
      ]
     },
     "execution_count": 16,
     "metadata": {},
     "output_type": "execute_result"
    }
   ],
   "source": [
    "webbpsf.webbpsf_core.poppy.conf.use_multiprocessing"
   ]
  },
  {
   "cell_type": "code",
   "execution_count": 15,
   "metadata": {},
   "outputs": [
    {
     "data": {
      "text/plain": [
       "<pysiaf.Aperture object AperName=NRCA5_FULL >"
      ]
     },
     "execution_count": 15,
     "metadata": {},
     "output_type": "execute_result"
    }
   ],
   "source": [
    "res.siaf_nrc['NRCA5_FULL']"
   ]
  }
 ],
 "metadata": {
  "file_extension": ".py",
  "kernelspec": {
   "display_name": "Python 3",
   "language": "python",
   "name": "python3"
  },
  "language_info": {
   "codemirror_mode": {
    "name": "ipython",
    "version": 3
   },
   "file_extension": ".py",
   "mimetype": "text/x-python",
   "name": "python",
   "nbconvert_exporter": "python",
   "pygments_lexer": "ipython3",
   "version": "3.7.4"
  },
  "mimetype": "text/x-python",
  "name": "python",
  "npconvert_exporter": "python",
  "pygments_lexer": "ipython3",
  "version": 3
 },
 "nbformat": 4,
 "nbformat_minor": 2
}
