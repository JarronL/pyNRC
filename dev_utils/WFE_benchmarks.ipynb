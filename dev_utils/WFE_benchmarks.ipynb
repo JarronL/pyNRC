{
 "cells": [
  {
   "cell_type": "code",
   "execution_count": 1,
   "metadata": {},
   "outputs": [],
   "source": [
    "# Import the usual libraries\n",
    "import numpy as np\n",
    "import matplotlib\n",
    "import matplotlib.pyplot as plt\n",
    "#import matplotlib.patches as mpatches\n",
    "\n",
    "# Enable inline plotting\n",
    "%matplotlib inline\n",
    "\n",
    "#from IPython.display import display, Latex, clear_output"
   ]
  },
  {
   "cell_type": "code",
   "execution_count": 2,
   "metadata": {},
   "outputs": [
    {
     "name": "stdout",
     "output_type": "stream",
     "text": [
      "[     pynrc:INFO]   jwst_backgrounds is not installed and will not be used for bg estimates.\n"
     ]
    }
   ],
   "source": [
    "import pynrc\n",
    "from pynrc import nrc_utils\n",
    "from pynrc.nrc_utils import webbpsf, poppy\n",
    "from pynrc.testing import perform_benchmarks"
   ]
  },
  {
   "cell_type": "code",
   "execution_count": 3,
   "metadata": {},
   "outputs": [
    {
     "name": "stdout",
     "output_type": "stream",
     "text": [
      "[     pynrc:INFO] Initializing SCA 481/A1\n",
      "[     pynrc:INFO] Updating PSF coeff with fov_pix=33 and oversample=4\n"
     ]
    }
   ],
   "source": [
    "nrc = pynrc.NIRCam()"
   ]
  },
  {
   "cell_type": "code",
   "execution_count": 4,
   "metadata": {},
   "outputs": [],
   "source": [
    "# from pynrc.nrc_utils import read_filter, gen_psf_coeff, gen_image_coeff, gen_webbpsf_psf\n",
    "# from pynrc.nrc_utils import gen_webbpsf_siwfe, field_coeff_resid, field_coeff_func\n",
    "# from pynrc.nrc_utils import Tel2Sci_info, NIRCam_V2V3_limits, radial_std\n",
    "# from pynrc.nrc_utils import jl_poly_fit, jl_poly"
   ]
  },
  {
   "cell_type": "code",
   "execution_count": 5,
   "metadata": {},
   "outputs": [],
   "source": [
    "# # Interpolation and extrapolation\n",
    "# from scipy.interpolate import griddata, RegularGridInterpolator\n",
    "# from scipy.ndimage import rotate"
   ]
  },
  {
   "cell_type": "code",
   "execution_count": 6,
   "metadata": {},
   "outputs": [],
   "source": [
    "# pySIAF stuff for plotting\n",
    "import pysiaf\n",
    "from pysiaf.siaf import Siaf\n",
    "from pysiaf.siaf import plot_main_apertures\n",
    "\n",
    "siaf = Siaf('NIRCam')\n",
    "siaf.generate_toc()"
   ]
  },
  {
   "cell_type": "code",
   "execution_count": 7,
   "metadata": {},
   "outputs": [],
   "source": [
    "from astropy.table import Table"
   ]
  },
  {
   "cell_type": "markdown",
   "metadata": {},
   "source": [
    "# Benchmarks"
   ]
  },
  {
   "cell_type": "code",
   "execution_count": 8,
   "metadata": {},
   "outputs": [],
   "source": [
    "kwargs = {\n",
    "    'fov_pix': 33,\n",
    "    'oversample': 4,\n",
    "    'pupil': None,\n",
    "    'filter': 'F430M',\n",
    "}\n",
    "\n",
    "# kwargs = {\n",
    "#     'fov_pix': 320,\n",
    "#     'oversample': 2,\n",
    "#     'pupil': 'CIRCLYOT',\n",
    "#     'filter': 'F444W',\n",
    "# }"
   ]
  },
  {
   "cell_type": "code",
   "execution_count": 9,
   "metadata": {},
   "outputs": [
    {
     "name": "stdout",
     "output_type": "stream",
     "text": [
      "Took 2.16 seconds to init WebbPSF\n",
      "Took 3.42 seconds to generate WebbPSF PSF\n"
     ]
    }
   ],
   "source": [
    "tdict = perform_benchmarks(do_webbpsf_only=True, **kwargs)"
   ]
  },
  {
   "cell_type": "code",
   "execution_count": 5,
   "metadata": {
    "scrolled": false
   },
   "outputs": [
    {
     "name": "stdout",
     "output_type": "stream",
     "text": [
      "Took 2.20 seconds to generate pyNRC coefficients\n",
      "Took 3.81 seconds to generate WFE Drift coefficients\n",
      "Took 5.98 seconds to generate WFE Field coefficients\n",
      "Took 0.05 seconds to generate pynrc PSF\n"
     ]
    }
   ],
   "source": [
    "tdict = perform_benchmarks(do_webbpsf=False, **kwargs)"
   ]
  },
  {
   "cell_type": "code",
   "execution_count": 6,
   "metadata": {
    "scrolled": true
   },
   "outputs": [
    {
     "name": "stdout",
     "output_type": "stream",
     "text": [
      "Took 2.15 seconds to generate pyNRC coefficients\n",
      "Took 3.65 seconds to generate WFE Drift coefficients\n",
      "Took 5.97 seconds to generate WFE Field coefficients\n",
      "Took 0.05 seconds to generate pynrc PSF\n"
     ]
    }
   ],
   "source": [
    "tdict = perform_benchmarks(do_webbpsf=False, **kwargs)"
   ]
  },
  {
   "cell_type": "code",
   "execution_count": null,
   "metadata": {},
   "outputs": [],
   "source": []
  }
 ],
 "metadata": {
  "file_extension": ".py",
  "kernelspec": {
   "display_name": "Python 3",
   "language": "python",
   "name": "python3"
  },
  "language_info": {
   "codemirror_mode": {
    "name": "ipython",
    "version": 3
   },
   "file_extension": ".py",
   "mimetype": "text/x-python",
   "name": "python",
   "nbconvert_exporter": "python",
   "pygments_lexer": "ipython3",
   "version": "3.7.7"
  },
  "mimetype": "text/x-python",
  "name": "python",
  "npconvert_exporter": "python",
  "pygments_lexer": "ipython3",
  "version": 3
 },
 "nbformat": 4,
 "nbformat_minor": 2
}
