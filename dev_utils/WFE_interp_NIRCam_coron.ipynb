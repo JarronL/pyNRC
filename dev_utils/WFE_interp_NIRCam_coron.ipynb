{
 "cells": [
  {
   "cell_type": "code",
   "execution_count": 1,
   "metadata": {},
   "outputs": [],
   "source": [
    "# Import the usual libraries\n",
    "import numpy as np\n",
    "import matplotlib\n",
    "import matplotlib.pyplot as plt\n",
    "#import matplotlib.patches as mpatches\n",
    "\n",
    "# Enable inline plotting\n",
    "%matplotlib inline\n",
    "\n",
    "#from IPython.display import display, Latex, clear_output"
   ]
  },
  {
   "cell_type": "code",
   "execution_count": 2,
   "metadata": {},
   "outputs": [
    {
     "name": "stdout",
     "output_type": "stream",
     "text": [
      "[     pynrc:INFO]   jwst_backgrounds is not installed and will not be used for bg estimates.\n"
     ]
    }
   ],
   "source": [
    "# WebbPSF\n",
    "import pynrc, webbpsf, os\n",
    "\n",
    "# Interpolation and extrapolation\n",
    "from scipy.interpolate import griddata, RegularGridInterpolator\n",
    "from scipy.ndimage import rotate\n",
    "\n",
    "# pySIAF stuff for plotting\n",
    "from pysiaf.siaf import Siaf\n",
    "from pysiaf.siaf import plot_main_apertures\n",
    "\n",
    "# Astropy Tables and FITS\n",
    "from astropy.table import Table, join\n",
    "from astropy.io import fits\n",
    "from astropy.io import ascii"
   ]
  },
  {
   "cell_type": "code",
   "execution_count": 3,
   "metadata": {},
   "outputs": [],
   "source": [
    "# Directory and file information\n",
    "outdir = pynrc.conf.path + 'opd_mod/'\n",
    "\n",
    "# Read in measured SI Zernike data\n",
    "data_dir = webbpsf.utils.get_webbpsf_data_path() + '/'\n",
    "zernike_file = outdir + 'si_zernikes_coron_wfe.csv'\n",
    "\n",
    "# Read in table data\n",
    "ztable_full = ascii.read(zernike_file)  \n",
    "ztable_full.rename_column('\\ufeffinstrument', 'instrument')\n",
    "\n",
    "# Zernike names\n",
    "keys = np.array(ztable_full.keys())\n",
    "ind_z = ['Zernike' in k for k in keys]\n",
    "zkeys = keys[ind_z]"
   ]
  },
  {
   "cell_type": "markdown",
   "metadata": {},
   "source": [
    "# V2/V3 Limits"
   ]
  },
  {
   "cell_type": "code",
   "execution_count": 4,
   "metadata": {},
   "outputs": [],
   "source": [
    "def get_v2v3_limits():\n",
    "    \"\"\"\n",
    "    V2/V3 Limits for a given module stored within an dictionary\n",
    "    \"\"\"\n",
    "    \n",
    "    names = ['SW', 'LW', 'SWA', 'LWA', 'SWB', 'LWB']\n",
    "    apnames = ['NRCALL_FULL', 'NRCALL_FULL', \n",
    "               ['NRCA1_FULL', 'NRCA2_FULL', 'NRCA3_FULL', 'NRCA4_FULL'], 'NRCA5_FULL', \n",
    "               ['NRCB1_FULL', 'NRCB2_FULL', 'NRCB3_FULL', 'NRCB4_FULL'], 'NRCB5_FULL']\n",
    "    \n",
    "    siaf = Siaf('NIRCam')\n",
    "    siaf.generate_toc()\n",
    "\n",
    "    v2v3_limits = {}\n",
    "    for i, name in enumerate(names):\n",
    "       \n",
    "        # Do all four apertures for each SWA & SWB\n",
    "        if (name=='SWA') or (name=='SWB'):\n",
    "            v2_vals = []\n",
    "            v3_vals = []\n",
    "            for apsw_name in apnames[i]:\n",
    "                ap = siaf[apsw_name]\n",
    "                v2_ref, v3_ref = ap.closed_polygon_points('tel', rederive=False)\n",
    "                v2_vals.append(v2_ref)\n",
    "                v3_vals.append(v3_ref)\n",
    "            v2_ref = np.array(v2_vals).flatten()\n",
    "            v3_ref = np.array(v3_vals).flatten()\n",
    "        else:\n",
    "            ap = siaf[apnames[i]]\n",
    "            v2_ref, v3_ref = ap.closed_polygon_points('tel', rederive=False)\n",
    "            \n",
    "        # Add a 10\" border margin\n",
    "        v2_min = int(v2_ref.min()-10)\n",
    "        v2_max = int(v2_ref.max()+10)\n",
    "        v3_min = int(v3_ref.min()-10) + 50  # Offset by 50\"\n",
    "        v3_max = int(v3_ref.max()+10) + 50  # Offset by 50\"\n",
    "            \n",
    "        v2v3_limits[name] = {'V2': [v2_min, v2_max],\n",
    "                             'V3': [v3_min, v3_max]}\n",
    "        \n",
    "    return v2v3_limits"
   ]
  },
  {
   "cell_type": "code",
   "execution_count": 5,
   "metadata": {},
   "outputs": [],
   "source": [
    "# V2/V3 Limits stored in a dictionary\n",
    "v2v3_limits = get_v2v3_limits()"
   ]
  },
  {
   "cell_type": "markdown",
   "metadata": {},
   "source": [
    "# Interpolate within bounds of CV3 measurements"
   ]
  },
  {
   "cell_type": "code",
   "execution_count": 6,
   "metadata": {},
   "outputs": [],
   "source": [
    "def gen_cv3_zgrid(ztable_full, v2v3_limits, mod, zkey):\n",
    "    \"\"\"Gridded data from CV3 only\"\"\"\n",
    "    \n",
    "    ind_nrc = ['NIRCam'+mod in row['instrument'] for row in ztable_full]\n",
    "    ind_nrc = np.where(ind_nrc)\n",
    "\n",
    "    # Grab V2/V3 coordinates\n",
    "    # In units of arcmin\n",
    "    v2 = ztable_full[ind_nrc]['V2']\n",
    "    v3 = ztable_full[ind_nrc]['V3']\n",
    "\n",
    "    # Create finer mesh grid\n",
    "    v2_lims = np.array(v2v3_limits[mod]['V2']) / 60.\n",
    "    v3_lims = np.array(v2v3_limits[mod]['V3']) / 60.\n",
    "    dstep = 1. / 60. # 1\" steps\n",
    "    xgrid = np.arange(v2_lims[0], v2_lims[1]+dstep, dstep)\n",
    "    ygrid = np.arange(v3_lims[0], v3_lims[1]+dstep, dstep)\n",
    "    \n",
    "    X, Y = np.meshgrid(xgrid,ygrid)\n",
    "    \n",
    "    ztable = ztable_full[ind_nrc]\n",
    "    zvals = ztable[zkey]\n",
    "\n",
    "    # There will be some NaNs along the outer borders\n",
    "    zgrid = griddata((v2, v3), zvals, (X, Y), method='cubic')\n",
    "    \n",
    "    return xgrid, ygrid, zgrid\n"
   ]
  },
  {
   "cell_type": "code",
   "execution_count": 7,
   "metadata": {},
   "outputs": [],
   "source": [
    "mod = 'LWA'\n",
    "xgrid, ygrid, zgrid = gen_cv3_zgrid(ztable_full, v2v3_limits, mod, 'Zernike_4')"
   ]
  },
  {
   "cell_type": "code",
   "execution_count": 8,
   "metadata": {},
   "outputs": [
    {
     "data": {
      "image/png": "[encoded data removed]",
      "text/plain": [
       "<Figure size 576x360 with 1 Axes>"
      ]
     },
     "metadata": {
      "needs_background": "light"
     },
     "output_type": "display_data"
    }
   ],
   "source": [
    "fig, ax = plt.subplots(1,1, figsize=(8,5))\n",
    "\n",
    "zmin, zmax = np.nanmin(zgrid), np.nanmax(zgrid)\n",
    "extent = np.array([xgrid.min(),xgrid.max(),ygrid.min(),ygrid.max()]) * 60\n",
    "ax.imshow(zgrid, extent=extent, vmin=zmin, vmax=zmax)\n",
    "\n",
    "siaf = Siaf('NIRCam')\n",
    "ap = siaf['NRCA5_FULL_MASK430R']\n",
    "ap.plot(ax=ax, fill=False, color='C1')\n",
    "\n",
    "fig.tight_layout()"
   ]
  },
  {
   "cell_type": "markdown",
   "metadata": {},
   "source": [
    "# Extrapolate using RegularGridInterpolator"
   ]
  },
  {
   "cell_type": "code",
   "execution_count": 9,
   "metadata": {},
   "outputs": [],
   "source": [
    "# To extrapolate outside the measured field points, we proceed \n",
    "# in two steps.  This first creates a fine-meshed cubic fit \n",
    "# over the known field points, fixes any NaN's using \n",
    "# RegularGridInterpolator, then again uses  RegularGridInterpolator \n",
    "# on the fixed data to extrapolate the requested field point.\n",
    "\n",
    "# In principle, the first call of RegularGridInterpolator can be \n",
    "# used to extrapolate the requested field point to eliminate \n",
    "# the intermediate step, but this method enables use of all the \n",
    "# real data rather than the trimmed data set.\n",
    "\n",
    "def _fix_zgrid_NaNs(xgrid, ygrid, zgrid_input, rot_ang=0):\n",
    "    \"\"\"Fix NaN's in Zernike Grid\n",
    "    \n",
    "    We trim NaN's within `zgrid`, then generate an extrapolation function\n",
    "    using `RegularGridInterpolator`. A rotation angle can also be specified\n",
    "    to maximize the number of remaining data points due to irregular\n",
    "    polygons of the real `zgrid` data.\n",
    "    \n",
    "    Returns `zgrid` with the NaN's fixed using the extrapolation function.\n",
    "    \n",
    "    Parameter\n",
    "    =========\n",
    "    xgrid : ndarray\n",
    "        1D V2 regular grid information\n",
    "    ygrid : ndarray\n",
    "        1D V3 regular grid information\n",
    "    zgrid : ndarray\n",
    "        2D Zernike grid\n",
    "    rot_ang : float\n",
    "        Option to rotate grid data for more optimal\n",
    "        trimming of NaN's.\n",
    "    \"\"\"\n",
    "            \n",
    "    # Prevent this function from replacing original data\n",
    "    zgrid = zgrid_input.copy()\n",
    "        \n",
    "    # Rotate zgrid\n",
    "    if rot_ang != 0:\n",
    "        zgrid = rotate(zgrid, rot_ang, reshape=False, order=1, cval=np.nan)\n",
    "        \n",
    "    # There will be some NaN's along the border that need to be replaced\n",
    "    ind_nan = np.isnan(zgrid)\n",
    "    # Remove rows/cols with NaN's\n",
    "    xgrid2, ygrid2, zgrid2 = _trim_nan_image(xgrid, ygrid, zgrid)\n",
    "    \n",
    "    # Create regular grid interpolator function for extrapolation of NaN's\n",
    "    func = RegularGridInterpolator((ygrid2,xgrid2), zgrid2, method='linear',\n",
    "                                   bounds_error=False, fill_value=None)\n",
    "\n",
    "    # Replace NaNs\n",
    "    X, Y = np.meshgrid(xgrid,ygrid)\n",
    "    pts = np.array([Y[ind_nan], X[ind_nan]]).transpose()\n",
    "    zgrid[ind_nan] = func(pts)\n",
    "\n",
    "    # De-rotate clipped zgrid image and redo RegularGridInterpolator\n",
    "    if rot_ang != 0:\n",
    "        # De-rotate\n",
    "        zgrid = rotate(zgrid, -rot_ang, reshape=False, order=1, cval=np.nan)\n",
    "        # There will be some NaNs along the border that need to be replaced\n",
    "        ind_nan = np.isnan(zgrid)\n",
    "        # Remove rows/cols 1 by 1 until no NaNs\n",
    "        xgrid2, ygrid2, zgrid2 = _trim_nan_image(xgrid, ygrid, zgrid)\n",
    "\n",
    "        # Create regular grid interpolator function for extrapolation of NaN's\n",
    "        func = RegularGridInterpolator((ygrid2,xgrid2), zgrid2, method='linear',\n",
    "                                       bounds_error=False, fill_value=None)\n",
    "\n",
    "        # Replace NaNs\n",
    "        pts = np.array([Y[ind_nan], X[ind_nan]]).transpose()\n",
    "        zgrid[ind_nan] = func(pts)\n",
    "        \n",
    "    return zgrid\n",
    "\n",
    "def _trim_nan_image(xgrid, ygrid, zgrid):\n",
    "    \"\"\"NaN Trimming of Image\n",
    "    \n",
    "    Remove rows/cols with NaN's while trying to preserve\n",
    "    the maximum footprint of real data.\n",
    "    \"\"\"\n",
    "    \n",
    "    xgrid2, ygrid2, zgrid2 = xgrid, ygrid, zgrid\n",
    "    \n",
    "    # Create a mask of NaN'ed values\n",
    "    nan_mask = np.isnan(zgrid2)\n",
    "    nrows, ncols = nan_mask.shape\n",
    "    # Determine number of NaN's along each row and col\n",
    "    num_nans_cols = nan_mask.sum(axis=0)\n",
    "    num_nans_rows = nan_mask.sum(axis=1)\n",
    "    \n",
    "    # First, crop all rows/cols that are only NaN's\n",
    "    xind_good = np.where(num_nans_cols < nrows)[0]\n",
    "    yind_good = np.where(num_nans_rows < ncols)[0]\n",
    "    # get border limits\n",
    "    x1, x2 = (xind_good.min(), xind_good.max()+1)\n",
    "    y1, y2 = (yind_good.min(), yind_good.max()+1)\n",
    "    # Trim of NaN borders\n",
    "    xgrid2 = xgrid2[x1:x2]\n",
    "    ygrid2 = ygrid2[y1:y2]\n",
    "    zgrid2 = zgrid2[y1:y2,x1:x2]\n",
    "    \n",
    "    # Find a optimal rectangule subsection free of NaN's\n",
    "    # Iterative cropping\n",
    "    ndiff = 5\n",
    "    while np.isnan(zgrid2.sum()):\n",
    "        # Make sure ndiff is not negative\n",
    "        if ndiff<0:\n",
    "            break\n",
    "\n",
    "        npix = zgrid2.size\n",
    "\n",
    "        # Create a mask of NaN'ed values\n",
    "        nan_mask = np.isnan(zgrid2)\n",
    "        nrows, ncols = nan_mask.shape\n",
    "        # Determine number of NaN's along each row and col\n",
    "        num_nans_cols = nan_mask.sum(axis=0)\n",
    "        num_nans_rows = nan_mask.sum(axis=1)\n",
    "\n",
    "        # Look for any appreciable diff row-to-row/col-to-col\n",
    "        col_diff = num_nans_cols - np.roll(num_nans_cols,-1) \n",
    "        row_diff = num_nans_rows - np.roll(num_nans_rows,-1)\n",
    "        # For edge wrapping, just use last minus previous\n",
    "        col_diff[-1] = col_diff[-2]\n",
    "        row_diff[-1] = row_diff[-2]\n",
    "        \n",
    "        #print(npix, zgrid2.shape, num_nans_cols, num_nans_rows)\n",
    "\n",
    "        # Keep rows/cols composed mostly of real data \n",
    "        # and where number of NaN's don't change dramatically\n",
    "        xind_good = np.where( ( np.abs(col_diff) <= ndiff  ) & \n",
    "                              ( num_nans_cols < 0.5*nrows ) )[0]\n",
    "        yind_good = np.where( ( np.abs(row_diff) <= ndiff  ) & \n",
    "                              ( num_nans_rows < 0.5*ncols ) )[0]\n",
    "        # get border limits\n",
    "        x1, x2 = (xind_good.min(), xind_good.max()+1)\n",
    "        y1, y2 = (yind_good.min(), yind_good.max()+1)\n",
    "    \n",
    "        # Trim of NaN borders\n",
    "        xgrid2 = xgrid2[x1:x2]\n",
    "        ygrid2 = ygrid2[y1:y2]\n",
    "        zgrid2 = zgrid2[y1:y2,x1:x2]\n",
    "        \n",
    "        # Check for convergence\n",
    "        # If we've converged, reduce \n",
    "        if npix==zgrid2.size:\n",
    "            ndiff -= 1\n",
    "                \n",
    "    # Last ditch effort in case there are still NaNs\n",
    "    # If so, remove rows/cols 1 by 1 until no NaNs\n",
    "    while np.isnan(zgrid2.sum()):\n",
    "        xgrid2 = xgrid2[1:-1]\n",
    "        ygrid2 = ygrid2[1:-1]\n",
    "        zgrid2 = zgrid2[1:-1,1:-1]\n",
    "            \n",
    "    return xgrid2, ygrid2, zgrid2\n",
    "\n"
   ]
  },
  {
   "cell_type": "code",
   "execution_count": 10,
   "metadata": {},
   "outputs": [],
   "source": [
    "# Fix NaN's via extrapolation\n",
    "zgrid_fix = _fix_zgrid_NaNs(xgrid, ygrid, zgrid)"
   ]
  },
  {
   "cell_type": "code",
   "execution_count": 11,
   "metadata": {},
   "outputs": [
    {
     "data": {
      "image/png": "[encoded data removed]",
      "text/plain": [
       "<Figure size 576x360 with 1 Axes>"
      ]
     },
     "metadata": {
      "needs_background": "light"
     },
     "output_type": "display_data"
    }
   ],
   "source": [
    "fig, ax = plt.subplots(1,1, figsize=(8,5))\n",
    "\n",
    "#zmin, zmax = np.nanmin(zgrid), np.nanmax(zgrid)\n",
    "extent = np.array([xgrid.min(),xgrid.max(),ygrid.min(),ygrid.max()]) * 60\n",
    "ax.imshow(zgrid_fix, extent=extent, vmin=zmin, vmax=zmax)\n",
    "\n",
    "siaf = Siaf('NIRCam')\n",
    "ap = siaf['NRCA5_FULL_MASK430R']\n",
    "ap.plot(ax=ax, fill=False, color='C1')\n",
    "\n",
    "fig.tight_layout()"
   ]
  },
  {
   "cell_type": "markdown",
   "metadata": {},
   "source": [
    "# Do All Apertures"
   ]
  },
  {
   "cell_type": "code",
   "execution_count": 12,
   "metadata": {},
   "outputs": [],
   "source": [
    "# for mod in ['SW', 'LW', 'SWA', 'LWA', 'SWB', 'LWB']:\n",
    "for mod in ['SWA', 'LWA', 'SWB', 'LWB']:\n",
    "    # Create a Zernike cube\n",
    "    zcube = []\n",
    "    for k in zkeys:\n",
    "        xgrid, ygrid, zgrid = gen_cv3_zgrid(ztable_full, v2v3_limits, mod, k)\n",
    "        zgrid_fix = _fix_zgrid_NaNs(xgrid, ygrid, zgrid)\n",
    "        zcube.append(zgrid_fix)\n",
    "        \n",
    "    zube = np.array(zcube)\n",
    "    \n",
    "    hdu = fits.PrimaryHDU(zcube)\n",
    "    hdr = hdu.header\n",
    "\n",
    "    dstep = 1. / 60.\n",
    "    hdr['units'] = 'meters'\n",
    "    hdr['xunits'] = 'Arcmin'\n",
    "    hdr['xmin'] = xgrid.min()\n",
    "    hdr['xmax'] = xgrid.max()\n",
    "    hdr['xdel'] = dstep\n",
    "    hdr['yunits'] = 'Arcmin'\n",
    "    hdr['ymin'] = ygrid.min()\n",
    "    hdr['ymax'] = ygrid.max()\n",
    "    hdr['ydel'] = dstep\n",
    "\n",
    "    hdr['wave'] = 2.10 if 'SW' in mod else 3.23\n",
    "\n",
    "    hdr['comment'] = 'X and Y values correspond to V2 and V3 coordinates (arcmin).'\n",
    "    hdr['comment'] = 'Slices in the cube correspond to Zernikes 1 to 36.'\n",
    "    hdr['comment'] = 'Zernike values calculated using 2D cubic interpolation'\n",
    "    hdr['comment'] = 'and linear extrapolation outside gridded data.'\n",
    "\n",
    "    fname = 'NIRCam{}_zernikes_coron.fits'.format(mod)\n",
    "    hdu.writeto(outdir + fname, overwrite=True)\n"
   ]
  },
  {
   "cell_type": "code",
   "execution_count": null,
   "metadata": {},
   "outputs": [],
   "source": []
  }
 ],
 "metadata": {
  "kernelspec": {
   "display_name": "Python 3",
   "language": "python",
   "name": "python3"
  },
  "language_info": {
   "codemirror_mode": {
    "name": "ipython",
    "version": 3
   },
   "file_extension": ".py",
   "mimetype": "text/x-python",
   "name": "python",
   "nbconvert_exporter": "python",
   "pygments_lexer": "ipython3",
   "version": "3.7.1"
  }
 },
 "nbformat": 4,
 "nbformat_minor": 2
}
