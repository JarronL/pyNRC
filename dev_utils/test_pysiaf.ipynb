{
 "cells": [
  {
   "cell_type": "code",
   "execution_count": 1,
   "metadata": {},
   "outputs": [],
   "source": [
    "import pysiaf\n",
    "import pandas as pd\n",
    "import pdb\n",
    "import matplotlib.pyplot as plt\n",
    "import numpy as np\n",
    "from astropy.io import ascii, fits\n",
    "from astropy.table import Table\n",
    "\n",
    "siaf = pysiaf.Siaf('NIRCam')"
   ]
  },
  {
   "cell_type": "code",
   "execution_count": 5,
   "metadata": {},
   "outputs": [],
   "source": [
    "def reversibility(orig='sci',new='tel'):\n",
    "    \"\"\" Test the reversibility  \"\"\"\n",
    "    orig_x = np.array([1, 2048, 2048,    1,   1024])\n",
    "    orig_y = np.array([1,    1, 2048, 2048,   1024])\n",
    "    print(\"Original coordinates:\")\n",
    "    print('x=',orig_x)\n",
    "    print('y=',orig_y)\n",
    "    ap = siaf['NRCA5_FULL']\n",
    "    \n",
    "    method_forward = \"{}_to_{}\".format(orig,new)\n",
    "    method_to_call = getattr(ap,method_forward)\n",
    "    x2, y2 = method_to_call(orig_x,orig_y)\n",
    "    \n",
    "    method_reverse = \"{}_to_{}\".format(new,orig)\n",
    "    method_to_call = getattr(ap,method_reverse)\n",
    "    new_x, new_y = method_to_call(x2,y2)\n",
    "\n",
    "    print(\"Recovered coordinates\")\n",
    "    print('x=',new_x)\n",
    "    print('y=',new_y)\n",
    "    \n",
    "    print(\"Differences:\")\n",
    "    print('x=',orig_x - new_x)\n",
    "    print('y=',orig_y - new_y)"
   ]
  },
  {
   "cell_type": "code",
   "execution_count": 10,
   "metadata": {},
   "outputs": [
    {
     "name": "stdout",
     "output_type": "stream",
     "text": [
      "Original coordinates:\n",
      "x= [   1 2048 2048    1 1024]\n",
      "y= [   1    1 2048 2048 1024]\n",
      "Recovered coordinates\n",
      "x= [1.01310602e+00 2.04798439e+03 2.04801346e+03 9.92443653e-01\n",
      " 1.02399838e+03]\n",
      "y= [1.01229043e+00 1.00770345e+00 2.04799874e+03 2.04798366e+03\n",
      " 1.02399321e+03]\n",
      "Differences:\n",
      "x= [-0.01310602  0.0156127  -0.01345557  0.00755635  0.00161873]\n",
      "y= [-0.01229043 -0.00770345  0.00125629  0.01633536  0.00679292]\n"
     ]
    }
   ],
   "source": [
    "reversibility(orig='det')"
   ]
  },
  {
   "cell_type": "code",
   "execution_count": 3,
   "metadata": {},
   "outputs": [
    {
     "data": {
      "text/plain": [
       "'PRDOPSSOC-031'"
      ]
     },
     "execution_count": 3,
     "metadata": {},
     "output_type": "execute_result"
    }
   ],
   "source": [
    "pysiaf.JWST_PRD_VERSION"
   ]
  },
  {
   "cell_type": "code",
   "execution_count": null,
   "metadata": {},
   "outputs": [],
   "source": []
  }
 ],
 "metadata": {
  "kernelspec": {
   "display_name": "Python 3",
   "language": "python",
   "name": "python3"
  },
  "language_info": {
   "codemirror_mode": {
    "name": "ipython",
    "version": 3
   },
   "file_extension": ".py",
   "mimetype": "text/x-python",
   "name": "python",
   "nbconvert_exporter": "python",
   "pygments_lexer": "ipython3",
   "version": "3.7.6"
  }
 },
 "nbformat": 4,
 "nbformat_minor": 4
}
